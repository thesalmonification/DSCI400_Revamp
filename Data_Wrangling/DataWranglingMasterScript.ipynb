{
  "nbformat": 4,
  "nbformat_minor": 0,
  "metadata": {
    "colab": {
      "name": "DataWranglingMasterScript.ipynb",
      "provenance": [],
      "collapsed_sections": []
    },
    "kernelspec": {
      "name": "python3",
      "display_name": "Python 3"
    }
  },
  "cells": [
    {
      "cell_type": "markdown",
      "metadata": {
        "id": "FzO8rePSkxIZ",
        "colab_type": "text"
      },
      "source": [
        "Imports"
      ]
    },
    {
      "cell_type": "code",
      "metadata": {
        "id": "Y51tqKPckkP7",
        "colab_type": "code",
        "outputId": "1ebf1730-1ea2-45cd-efab-054aad3868fa",
        "colab": {
          "base_uri": "https://localhost:8080/",
          "height": 33
        }
      },
      "source": [
        "#Add Shared Google Drive Access\n",
        "from google.colab import drive\n",
        "drive.mount('/content/drive')"
      ],
      "execution_count": 0,
      "outputs": [
        {
          "output_type": "stream",
          "text": [
            "Drive already mounted at /content/drive; to attempt to forcibly remount, call drive.mount(\"/content/drive\", force_remount=True).\n"
          ],
          "name": "stdout"
        }
      ]
    },
    {
      "cell_type": "markdown",
      "metadata": {
        "id": "LqyG3ubNuw2k",
        "colab_type": "text"
      },
      "source": [
        "Data Wrangling: BDF_Full_Converter.ipynb"
      ]
    },
    {
      "cell_type": "code",
      "metadata": {
        "id": "kvgTZMcXlCG1",
        "colab_type": "code",
        "colab": {}
      },
      "source": [
        "#Running the script \"BDF_Full_Converter.ipynb\" will \n",
        "#create two files called \"Waveform_Data.h5\" and \"Label_Data.h5\" within the \n",
        "#drive, as well as two additional helper csv files. These files contained all \n",
        "#the parsed waveform and label data of the \"Sessions\" folder condensed into two \n",
        "#easy to access files.\n",
        "%run '/content/drive/Shared drives/DSCI400_Revamp/Code/Data Wrangling/BDF_Full_Converter.ipynb'"
      ],
      "execution_count": 0,
      "outputs": []
    },
    {
      "cell_type": "markdown",
      "metadata": {
        "id": "TNgvB38yu0Az",
        "colab_type": "text"
      },
      "source": [
        "Data Wrangling: Phase_Vocoder.ipynb"
      ]
    },
    {
      "cell_type": "code",
      "metadata": {
        "id": "NcvVbPwbl2wR",
        "colab_type": "code",
        "colab": {}
      },
      "source": [
        "#Running  the script \"Phase_Vocoder.ipynb\" equalizes the length of all sessions'\n",
        "#waveforms, as the waveforms recorded to different lengths. This script will \n",
        "#create two files called \"Waveform_Vocoded_Unequalized_Data.h5\" and \n",
        "#\"Waveform_Vocoded_Equalized_Data.h5\". The \"Waveform_Vocoded_Equalized_Data.h5\" \n",
        "#contains all equal length waveforms.\n",
        "%run '/content/drive/Shared drives/DSCI400_Revamp/Code/Data Wrangling/PhaseVocoding.ipynb'"
      ],
      "execution_count": 0,
      "outputs": []
    },
    {
      "cell_type": "markdown",
      "metadata": {
        "id": "jfXWfjCau3Xa",
        "colab_type": "text"
      },
      "source": [
        "Data Wrangling: Downsample.ipynb"
      ]
    },
    {
      "cell_type": "code",
      "metadata": {
        "id": "usRxYmhUulc5",
        "colab_type": "code",
        "colab": {}
      },
      "source": [
        "#Running the script \"Downsample.ipynb\" downsampled the equalized waveforms. Our\n",
        "#data originally sampled at 256Hz, which far surpases the minimum sampling rate\n",
        "#needed to capture EEG signals. This script downsamples by a factor of 4\n",
        "#to create shorter signals for the modeling phase. The\n",
        "#\"Waveform_Vocoded_Equalized_Downsampled_Data.h5\" contails all downsampled\n",
        "#waveforms.\n",
        "%run '/content/drive/Shared drives/DSCI400_Revamp/Code/Data Wrangling/Downsample.ipynb'"
      ],
      "execution_count": 0,
      "outputs": []
    },
    {
      "cell_type": "markdown",
      "metadata": {
        "id": "g3_0yuFCu6_Q",
        "colab_type": "text"
      },
      "source": [
        "Data Wrangling: PosNegLabelSplit.ipynb"
      ]
    },
    {
      "cell_type": "code",
      "metadata": {
        "id": "8B1SSDSXuoOw",
        "colab_type": "code",
        "colab": {}
      },
      "source": [
        "#Running the script PosNegLabelSplit.ipynb separates sessions by Positive and\n",
        "#Negative emotional label in preparation for the binary classifier of the\n",
        "#modeling stage. This script produces two csv files: \"PosEmoSessions.csv\" and\n",
        "#\"NegEmoSession.csv\" to hold the respective session numbers.\n",
        "%run '/content/drive/Shared drives/DSCI400_Revamp/Code/Data Wrangling/PosNegLabelSplit.ipynb'"
      ],
      "execution_count": 0,
      "outputs": []
    },
    {
      "cell_type": "markdown",
      "metadata": {
        "id": "OhKHWwRa1R9E",
        "colab_type": "text"
      },
      "source": [
        "Data Wrangling: 1DEqualPosNeg.ipynb"
      ]
    },
    {
      "cell_type": "code",
      "metadata": {
        "id": "i8fc0COs1UhH",
        "colab_type": "code",
        "colab": {}
      },
      "source": [
        "#Running the script 1DEqualPosNeg.ipynb separates sessions by Positive and\n",
        "#Negative emotional label in preparation for the binary classifier of the\n",
        "#modeling stage. This script produces two csv files with an equal number of \n",
        "#waveforms: \"PosEmoSessions.csv\" and \"NegEmoSession.csv\" to hold the respective\n",
        "#session numbers.\n",
        "%run '/content/drive/Shared drives/DSCI400_Revamp/Code/Data Wrangling/1DEqualPosNeg.ipynb'"
      ],
      "execution_count": 0,
      "outputs": []
    },
    {
      "cell_type": "markdown",
      "metadata": {
        "id": "VRxTDKouu-5b",
        "colab_type": "text"
      },
      "source": [
        "Data Wrangling: 1DDataAndLabelMarixMaker.ipynb"
      ]
    },
    {
      "cell_type": "code",
      "metadata": {
        "id": "6GlFciOeuquC",
        "colab_type": "code",
        "colab": {}
      },
      "source": [
        "#Running the script 1DDataAndLabelMatrixMaker.ipynb creates the data tensor and \n",
        "#accompanying label array for the binary classifier of the modeling phase. Labels\n",
        "#are either 1/0, depending on if the emotion was Negative/Positive. The tensor\n",
        "#and array are saved as .npy files (a proprietary numpy format): data_tensor_1d.npy\n",
        "#and label_array_1d.npy. We chose to separate sessions into their 32 individual\n",
        "#channels, thus creating \"1D\" data from the 32D original input size.\n",
        "%run '/content/drive/Shared drives/DSCI400_Revamp/Code/Data Wrangling/1DDataAndLabelMaker.ipynb'"
      ],
      "execution_count": 0,
      "outputs": []
    }
  ]
}