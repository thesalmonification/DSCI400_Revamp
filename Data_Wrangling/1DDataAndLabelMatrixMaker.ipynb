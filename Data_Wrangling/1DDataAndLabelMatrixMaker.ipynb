{
  "nbformat": 4,
  "nbformat_minor": 0,
  "metadata": {
    "colab": {
      "name": "1DDataAndLabelMatrixMaker.ipynb",
      "provenance": [],
      "collapsed_sections": [],
      "include_colab_link": true
    },
    "kernelspec": {
      "name": "python3",
      "display_name": "Python 3"
    }
  },
  "cells": [
    {
      "cell_type": "markdown",
      "metadata": {
        "id": "view-in-github",
        "colab_type": "text"
      },
      "source": [
        "<a href=\"https://colab.research.google.com/github/thesalmonification/DSCI400_Revamp/blob/master/1DDataAndLabelMatrixMaker.ipynb\" target=\"_parent\"><img src=\"https://colab.research.google.com/assets/colab-badge.svg\" alt=\"Open In Colab\"/></a>"
      ]
    },
    {
      "cell_type": "markdown",
      "metadata": {
        "id": "k7KO10vz9H3w",
        "colab_type": "text"
      },
      "source": [
        "Imports"
      ]
    },
    {
      "cell_type": "code",
      "metadata": {
        "id": "BGnspHg9vm0L",
        "colab_type": "code",
        "colab": {}
      },
      "source": [
        "import numpy as np\n",
        "import pandas as pd\n",
        "import matplotlib.pyplot as plt\n",
        "import tensorflow as tf"
      ],
      "execution_count": 0,
      "outputs": []
    },
    {
      "cell_type": "markdown",
      "metadata": {
        "id": "CX9orAle9KV_",
        "colab_type": "text"
      },
      "source": [
        "Google Collab Import"
      ]
    },
    {
      "cell_type": "code",
      "metadata": {
        "id": "XUhV2WAmv4kf",
        "colab_type": "code",
        "outputId": "fdde04ee-b986-4b28-d721-35731dd075a3",
        "colab": {
          "base_uri": "https://localhost:8080/",
          "height": 35
        }
      },
      "source": [
        "#Written in Google Collab: add drive\n",
        "from google.colab import drive\n",
        "drive.mount('/content/drive')"
      ],
      "execution_count": 0,
      "outputs": [
        {
          "output_type": "stream",
          "text": [
            "Drive already mounted at /content/drive; to attempt to forcibly remount, call drive.mount(\"/content/drive\", force_remount=True).\n"
          ],
          "name": "stdout"
        }
      ]
    },
    {
      "cell_type": "markdown",
      "metadata": {
        "id": "cmyUBF099MMC",
        "colab_type": "text"
      },
      "source": [
        "Load both Pos/Neg Session Names"
      ]
    },
    {
      "cell_type": "code",
      "metadata": {
        "id": "1PPBgxjdv6vL",
        "colab_type": "code",
        "colab": {}
      },
      "source": [
        "#Load the pos/emo sessions\n",
        "PosEmoSessions = list(pd.read_csv('/content/drive/Shared drives/DSCI400_Revamp/PosEmoSessions.csv',header=None)[0])\n",
        "NegEmoSessions = list(pd.read_csv('/content/drive/Shared drives/DSCI400_Revamp/NegEmoSessions.csv',header=None)[0])\n",
        "\n",
        "#print(PosEmoSessions)\n",
        "#print(NegEmoSessions)\n",
        "\n",
        "#Concatenate all pos/neg emo sessions\n",
        "all_sessions = PosEmoSessions + NegEmoSessions"
      ],
      "execution_count": 0,
      "outputs": []
    },
    {
      "cell_type": "markdown",
      "metadata": {
        "id": "9zmedTxQ9So6",
        "colab_type": "text"
      },
      "source": [
        "Create the data_tensor and label_array"
      ]
    },
    {
      "cell_type": "code",
      "metadata": {
        "id": "VqC9kxT7wXw_",
        "colab_type": "code",
        "outputId": "2dcbfa21-ba93-45cb-e437-5eec70d071fa",
        "colab": {
          "base_uri": "https://localhost:8080/",
          "height": 52
        }
      },
      "source": [
        "#Create the data and label matrices\n",
        "#data matrix is a 3-d tensor; label matrix will be 1-hot codes\n",
        "\n",
        "#I will be concatenating to lists/arrays. Initialize these structures using the\n",
        "#first session from all_sessions\n",
        "\n",
        "#Further remap as binary if pos:0, if neg:1\n",
        "to_binary_dict = {'0':0,'4':0,'6':0,'11':0,'1':1,'2':1,'3':1,'5':1,'12':1}\n",
        "\n",
        "label_data = pd.read_hdf('/content/drive/Shared drives/DSCI400_Revamp/Label_Data.h5',key=all_sessions[0]+'_labels').T\n",
        "label_list = [to_binary_dict[label_data['feltEmo'].to_numpy()[0]]] * 32\n",
        "\n",
        "waveform_array = pd.read_hdf('/content/drive/Shared drives/DSCI400_Revamp/Waveform_Vocoded_Equalized_Downsampled_Data.h5',key=all_sessions[0]).T.to_numpy()\n",
        "\n",
        "#1D fix\n",
        "data_tensor = np.reshape(waveform_array,(32,6080))\n",
        "\n",
        "\n",
        "for session in all_sessions[1:]:\n",
        "\n",
        "  #Grab the feltEmoValue; possible numbers are ->\n",
        "  #['0','4','6','11'] #Neutral, Joy/Happy, Surprise, Amusement\n",
        "  #['1','2','3','5','12'] #Anger, Disgust, Fear, Sadness, Anxiety\n",
        "  label_data = pd.read_hdf('/content/drive/Shared drives/DSCI400_Revamp/Label_Data.h5',key=session+'_labels').T\n",
        "  feltEmo_val = label_data['feltEmo'].to_numpy()[0]\n",
        "  label_list = label_list + [to_binary_dict[feltEmo_val]] * 32\n",
        "  \n",
        "  #Grab the waveform matrix; reshape to be tensor\n",
        "  #concatenate to the data tensor\n",
        "  waveform_array = pd.read_hdf('/content/drive/Shared drives/DSCI400_Revamp/Waveform_Vocoded_Equalized_Downsampled_Data.h5',key=session).T.to_numpy()\n",
        "  waveform_array = np.reshape(waveform_array,(32,6080))\n",
        "  data_tensor = np.concatenate((data_tensor,waveform_array),axis=0)\n",
        "\n",
        "\n",
        "\n",
        "data_tensor = np.reshape(data_tensor,(16224,6080,1))\n",
        "print(data_tensor.shape)\n",
        "label_array = np.array(label_list)\n",
        "print(label_array.shape)"
      ],
      "execution_count": 0,
      "outputs": [
        {
          "output_type": "stream",
          "text": [
            "(16224, 6080, 1)\n",
            "16224\n"
          ],
          "name": "stdout"
        }
      ]
    },
    {
      "cell_type": "markdown",
      "metadata": {
        "id": "nPhyGeZs9aWK",
        "colab_type": "text"
      },
      "source": [
        "Save data_tensor and label_array for future use"
      ]
    },
    {
      "cell_type": "code",
      "metadata": {
        "id": "jJX9AIf36Rt4",
        "colab_type": "code",
        "colab": {}
      },
      "source": [
        "#Save the tensor and array as .npy files for easy access for the neural network...\n",
        "np.save('/content/drive/Shared drives/DSCI400_Revamp/data_tensor_1D.npy', data_tensor)\n",
        "np.save('/content/drive/Shared drives/DSCI400_Revamp/label_array_1D.npy', label_array)"
      ],
      "execution_count": 0,
      "outputs": []
    },
    {
      "cell_type": "code",
      "metadata": {
        "id": "0QntYTXj7_vy",
        "colab_type": "code",
        "colab": {}
      },
      "source": [
        ""
      ],
      "execution_count": 0,
      "outputs": []
    }
  ]
}