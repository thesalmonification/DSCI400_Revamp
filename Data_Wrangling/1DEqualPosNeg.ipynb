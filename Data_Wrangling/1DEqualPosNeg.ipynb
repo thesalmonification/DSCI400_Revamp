{
  "nbformat": 4,
  "nbformat_minor": 0,
  "metadata": {
    "colab": {
      "name": "1DEqualPosNeg.ipynb",
      "provenance": [],
      "collapsed_sections": []
    },
    "kernelspec": {
      "name": "python3",
      "display_name": "Python 3"
    }
  },
  "cells": [
    {
      "cell_type": "markdown",
      "metadata": {
        "id": "k7KO10vz9H3w",
        "colab_type": "text"
      },
      "source": [
        "Imports"
      ]
    },
    {
      "cell_type": "code",
      "metadata": {
        "id": "BGnspHg9vm0L",
        "colab_type": "code",
        "colab": {}
      },
      "source": [
        "import numpy as np\n",
        "import pandas as pd\n",
        "import matplotlib.pyplot as plt\n",
        "import tensorflow as tf\n",
        "from scipy.fft import fft"
      ],
      "execution_count": 0,
      "outputs": []
    },
    {
      "cell_type": "markdown",
      "metadata": {
        "id": "CX9orAle9KV_",
        "colab_type": "text"
      },
      "source": [
        "Google Collab Import"
      ]
    },
    {
      "cell_type": "code",
      "metadata": {
        "id": "XUhV2WAmv4kf",
        "colab_type": "code",
        "outputId": "39473154-ed96-4296-e14d-fca8c55e43c2",
        "colab": {
          "base_uri": "https://localhost:8080/",
          "height": 34
        }
      },
      "source": [
        "#Written in Google Collab: add drive\n",
        "from google.colab import drive\n",
        "drive.mount('/content/drive')"
      ],
      "execution_count": 0,
      "outputs": [
        {
          "output_type": "stream",
          "text": [
            "Drive already mounted at /content/drive; to attempt to forcibly remount, call drive.mount(\"/content/drive\", force_remount=True).\n"
          ],
          "name": "stdout"
        }
      ]
    },
    {
      "cell_type": "markdown",
      "metadata": {
        "id": "cmyUBF099MMC",
        "colab_type": "text"
      },
      "source": [
        "Load both Pos/Neg Session Names"
      ]
    },
    {
      "cell_type": "code",
      "metadata": {
        "id": "1PPBgxjdv6vL",
        "colab_type": "code",
        "outputId": "20940262-5228-463e-a796-8744c765003f",
        "colab": {
          "base_uri": "https://localhost:8080/",
          "height": 51
        }
      },
      "source": [
        "#Load the pos/emo sessions\n",
        "PosEmoSessions = list(pd.read_csv('/content/drive/Shared drives/DSCI400_Revamp/PosEmoSessions.csv',header=None)[0])[:200]\n",
        "NegEmoSessions = list(pd.read_csv('/content/drive/Shared drives/DSCI400_Revamp/NegEmoSessions.csv',header=None)[0])\n",
        "\n",
        "print(len(PosEmoSessions))\n",
        "print(len(NegEmoSessions))\n",
        "\n",
        "#Concatenate all pos/neg emo sessions\n",
        "all_sessions = PosEmoSessions + NegEmoSessions"
      ],
      "execution_count": 0,
      "outputs": [
        {
          "output_type": "stream",
          "text": [
            "200\n",
            "200\n"
          ],
          "name": "stdout"
        }
      ]
    },
    {
      "cell_type": "markdown",
      "metadata": {
        "id": "9zmedTxQ9So6",
        "colab_type": "text"
      },
      "source": [
        "Create the data_tensor and label_array"
      ]
    },
    {
      "cell_type": "code",
      "metadata": {
        "id": "VqC9kxT7wXw_",
        "colab_type": "code",
        "outputId": "572a3a29-56dc-4238-817c-316c62404ac8",
        "colab": {
          "base_uri": "https://localhost:8080/",
          "height": 102
        }
      },
      "source": [
        "# Create the data and label matrices\n",
        "# data matrix is a 3-d tensor; label matrix will be 1-hot codes\n",
        "\n",
        "# I will be concatenating to lists/arrays. Initialize these structures using the\n",
        "# first session from all_sessions\n",
        "\n",
        "# Further remap as binary if pos:0, if neg:1\n",
        "to_binary_dict = {'0':0,'4':0,'6':0,'11':0,'1':1,'2':1,'3':1,'5':1,'12':1}\n",
        "\n",
        "label_data = pd.read_hdf('/content/drive/Shared drives/DSCI400_Revamp/Label_Data.h5',key=all_sessions[0]+'_labels').T\n",
        "label_list = [to_binary_dict[label_data['feltEmo'].to_numpy()[0]]] * 32\n",
        "\n",
        "waveform_array = pd.read_hdf('/content/drive/Shared drives/DSCI400_Revamp/Waveform_Vocoded_Equalized_Downsampled_Data.h5',key=all_sessions[0]).T.to_numpy()\n",
        "\n",
        "# 1D fix\n",
        "data_tensor = np.reshape(waveform_array,(32,6080))\n",
        "\n",
        "# FFT tensor\n",
        "fft_len = 700\n",
        "fft_tensor = np.zeros((32,fft_len))\n",
        "\n",
        "#Center signals and perform FFT\n",
        "for chnl_i in range(32):\n",
        "  data_tensor[chnl_i] = data_tensor[chnl_i] - np.average(data_tensor[chnl_i])\n",
        "  transf = fft(data_tensor[chnl_i].tolist())\n",
        "  fft_tensor[chnl_i] = np.array(transf[:fft_len])\n",
        "  # fft_tensor[chnl_i] = np.array(abs(transf[cutoff_s:cutoff_e]))\n",
        "\n",
        "for session in all_sessions[1:]:\n",
        "\n",
        "  #Grab the feltEmoValue; possible numbers are ->\n",
        "  #['0','4','6','11'] #Neutral, Joy/Happy, Surprise, Amusement\n",
        "  #['1','2','3','5','12'] #Anger, Disgust, Fear, Sadness, Anxiety\n",
        "  label_data = pd.read_hdf('/content/drive/Shared drives/DSCI400_Revamp/Label_Data.h5',key=session+'_labels').T\n",
        "  feltEmo_val = label_data['feltEmo'].to_numpy()[0]\n",
        "  label_list = label_list + [to_binary_dict[feltEmo_val]] * 32\n",
        "  \n",
        "  #Grab the waveform matrix; reshape to be tensor\n",
        "  #concatenate to the data tensor\n",
        "  waveform_array = pd.read_hdf('/content/drive/Shared drives/DSCI400_Revamp/Waveform_Vocoded_Equalized_Downsampled_Data.h5',key=session).T.to_numpy()\n",
        "  waveform_array = np.reshape(waveform_array,(32,6080))\n",
        "  fft_array = np.zeros((32,fft_len))\n",
        "  for chnl_i in range(32):\n",
        "    waveform_array[chnl_i] = waveform_array[chnl_i] - np.average(waveform_array[chnl_i])\n",
        "    transf = fft(waveform_array[chnl_i].tolist())\n",
        "    fft_array[chnl_i] = np.array(transf[:fft_len])\n",
        "  data_tensor = np.concatenate((data_tensor,waveform_array),axis=0)\n",
        "  fft_tensor = np.concatenate((fft_tensor,fft_array),axis = 0)\n",
        "\n",
        "\n",
        "\n",
        "data_tensor = np.reshape(data_tensor,(12800,6080,1))\n",
        "fft_tensor = np.reshape(fft_tensor, (12800,fft_len,1))\n",
        "# print(data_tensor.shape)\n",
        "# print(fft_tensor.shape)\n",
        "label_array = np.array(label_list)\n",
        "# print(label_array.shape)"
      ],
      "execution_count": 0,
      "outputs": [
        {
          "output_type": "stream",
          "text": [
            "/usr/local/lib/python3.6/dist-packages/ipykernel_launcher.py:26: ComplexWarning: Casting complex values to real discards the imaginary part\n",
            "/usr/local/lib/python3.6/dist-packages/ipykernel_launcher.py:46: ComplexWarning: Casting complex values to real discards the imaginary part\n"
          ],
          "name": "stderr"
        },
        {
          "output_type": "stream",
          "text": [
            "(12800, 6080, 1)\n",
            "(12800, 700, 1)\n",
            "(12800,)\n"
          ],
          "name": "stdout"
        }
      ]
    },
    {
      "cell_type": "markdown",
      "metadata": {
        "id": "nPhyGeZs9aWK",
        "colab_type": "text"
      },
      "source": [
        "Save data_tensor and label_array for future use"
      ]
    },
    {
      "cell_type": "code",
      "metadata": {
        "id": "jJX9AIf36Rt4",
        "colab_type": "code",
        "colab": {}
      },
      "source": [
        "#Save the tensors and array as .npy files for easy access for the neural network...\n",
        "np.save('/content/drive/Shared drives/DSCI400_Revamp/eq_data_tensor_1D.npy', data_tensor)\n",
        "np.save('/content/drive/Shared drives/DSCI400_Revamp/eq_fft_tensor_1D.npy', fft_tensor)\n",
        "np.save('/content/drive/Shared drives/DSCI400_Revamp/eq_label_array_1D.npy', label_array)"
      ],
      "execution_count": 0,
      "outputs": []
    }
  ]
}