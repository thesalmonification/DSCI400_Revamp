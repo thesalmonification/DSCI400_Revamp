{
  "nbformat": 4,
  "nbformat_minor": 0,
  "metadata": {
    "colab": {
      "name": "PhaseVocoding.ipynb",
      "provenance": [],
      "collapsed_sections": [],
      "authorship_tag": "ABX9TyMbii2vQpEAD/RZkN+q6TEH",
      "include_colab_link": true
    },
    "kernelspec": {
      "name": "python3",
      "display_name": "Python 3"
    }
  },
  "cells": [
    {
      "cell_type": "markdown",
      "metadata": {
        "id": "view-in-github",
        "colab_type": "text"
      },
      "source": [
        "<a href=\"https://colab.research.google.com/github/thesalmonification/DSCI400_Revamp/blob/master/PhaseVocoding.ipynb\" target=\"_parent\"><img src=\"https://colab.research.google.com/assets/colab-badge.svg\" alt=\"Open In Colab\"/></a>"
      ]
    },
    {
      "cell_type": "code",
      "metadata": {
        "id": "OmI6xnUZhUr9",
        "colab_type": "code",
        "colab": {}
      },
      "source": [
        "############################################################\n",
        "\"\"\"This code was designed to implement phase vocoding, a technique used\n",
        "to shorten signals in time without destroying their frequency content. This\n",
        "function is vital to our project as unaltered EEG signals varied in length for \n",
        "each session. Phase vocoding was implemented using the popular audio editing \n",
        "library librosa\"\"\"\n",
        "\n",
        "\n",
        "import numpy as np\n",
        "import pandas as pd\n",
        "import matplotlib.pyplot as plt\n",
        "import librosa\n",
        "%matplotlib inline"
      ],
      "execution_count": 0,
      "outputs": []
    },
    {
      "cell_type": "code",
      "metadata": {
        "id": "oQLFXyw_hqZe",
        "colab_type": "code",
        "outputId": "f7681c0d-93fc-4e96-9eb5-5a2aef31f1ee",
        "colab": {
          "base_uri": "https://localhost:8080/",
          "height": 123
        }
      },
      "source": [
        "from google.colab import drive\n",
        "drive.mount('/content/drive')"
      ],
      "execution_count": 0,
      "outputs": [
        {
          "output_type": "stream",
          "text": [
            "Go to this URL in a browser: https://accounts.google.com/o/oauth2/auth?client_id=947318989803-6bn6qk8qdgf4n4g3pfee6491hc0brc4i.apps.googleusercontent.com&redirect_uri=urn%3aietf%3awg%3aoauth%3a2.0%3aoob&response_type=code&scope=email%20https%3a%2f%2fwww.googleapis.com%2fauth%2fdocs.test%20https%3a%2f%2fwww.googleapis.com%2fauth%2fdrive%20https%3a%2f%2fwww.googleapis.com%2fauth%2fdrive.photos.readonly%20https%3a%2f%2fwww.googleapis.com%2fauth%2fpeopleapi.readonly\n",
            "\n",
            "Enter your authorization code:\n",
            "··········\n",
            "Mounted at /content/drive\n"
          ],
          "name": "stdout"
        }
      ]
    },
    {
      "cell_type": "code",
      "metadata": {
        "id": "bx1WkUhAhtNw",
        "colab_type": "code",
        "colab": {}
      },
      "source": [
        "#Import the waveform of the HDF5\n",
        "keys = pd.read_csv('/content/drive/Shared drives/DSCI400/Waveform_Data_Keys.csv',header=None)\n",
        "keys = list(keys[0])"
      ],
      "execution_count": 0,
      "outputs": []
    },
    {
      "cell_type": "code",
      "metadata": {
        "id": "xLozb1BSmVvn",
        "colab_type": "code",
        "colab": {}
      },
      "source": [
        "#iterate over all keys to grab all waveforms...\n",
        "\n",
        "#I need to shorten all longer waveforms to be equal to the shortest of all sessions\n",
        "#Therefore, I need to know the length of the shortest waveform. Let's find it...\n",
        "shortest_length = float('inf')\n",
        "\n",
        "for key in keys:\n",
        "  #print(key)\n",
        "  session_df = pd.read_hdf('/content/drive/Shared drives/DSCI400/Waveform_Data.h5',key=key)\n",
        "  session_length = session_df.shape[0]\n",
        "  if session_length < shortest_length:\n",
        "    shortest_length = session_length\n",
        "print(\"Shortest Length is: \" + str(shortest_length))\n"
      ],
      "execution_count": 0,
      "outputs": []
    },
    {
      "cell_type": "code",
      "metadata": {
        "id": "pdlHHcZCnl4E",
        "colab_type": "code",
        "colab": {}
      },
      "source": [
        "#Now for every key, phase vocode every channel and save to a new HDF5 file...\n",
        "\n",
        "for key in keys:\n",
        "  #print(key)\n",
        "  session_df = pd.read_hdf('/content/drive/Shared drives/DSCI400/Waveform_Data.h5',key=key)\n",
        "  session_length = session_df.shape[0]\n",
        "  \n",
        "  #Here I need to calculate the phase vocoding fraction to shorten any longer waveforms...\n",
        "  fraction = session_length / shortest_length\n",
        "\n",
        "\n",
        "  #Build the first vocoded dataframe so I may append to it\n",
        "  waveform = session_df[session_df.columns[0]].to_numpy()\n",
        "  STFT = librosa.stft(waveform,256)\n",
        "  STFT_fast = librosa.phase_vocoder(STFT, fraction)\n",
        "  waveform_fast = librosa.istft(STFT_fast)\n",
        "\n",
        "  waveform_array = waveform_fast\n",
        "  waveform_array = waveform_array.reshape(-1,1).T\n",
        "\n",
        "\n",
        "  #Iterate over all others chs to build the shortened waveform array\n",
        "  for ch in session_df.columns[1:]:\n",
        "    waveform = session_df[ch].to_numpy()\n",
        "\n",
        "\n",
        "    #Here I do vocoding thru a STFT and the librosa phase vocoder function...\n",
        "    STFT = librosa.stft(waveform,256)\n",
        "    STFT_fast = librosa.phase_vocoder(STFT, fraction)\n",
        "    waveform_fast = librosa.istft(STFT_fast)\n",
        "    waveform_fast = waveform_fast.reshape(-1,1).T\n",
        "\n",
        "    #Append to the growing waveform array\n",
        "    waveform_array = np.concatenate((waveform_array,waveform_fast),axis=0)\n",
        "\n",
        "  #Save waveform to New HDF5 file...\n",
        "  waveform_df = pd.DataFrame(waveform_array,index=session_df.columns).T\n",
        "\n",
        "  waveform_df.to_hdf('/content/drive/Shared drives/DSCI400/Waveform_Vocoded_Unequal_Data.h5',key=key,complevel=4,format='table')\n",
        "\n",
        "\n",
        "     "
      ],
      "execution_count": 0,
      "outputs": []
    },
    {
      "cell_type": "code",
      "metadata": {
        "id": "2i-nKvVw1b0D",
        "colab_type": "code",
        "colab": {}
      },
      "source": [
        "#Since the vocoder isn't perfect, reopen the file and shorten all to the newest resulting shortest value...\n",
        "\n",
        "\n",
        "shortest_length = float('inf')\n",
        "\n",
        "for key in keys:\n",
        "  #print(key)\n",
        "  session_df = pd.read_hdf('/content/drive/Shared drives/DSCI400/Waveform_Vocoded_Unequal_Data.h5',key=key)\n",
        "  session_length = session_df.shape[0]\n",
        "  if session_length < shortest_length:\n",
        "    shortest_length = session_length\n",
        "\n",
        "print(\"Shortest Length is: \" + str(shortest_length))"
      ],
      "execution_count": 0,
      "outputs": []
    },
    {
      "cell_type": "code",
      "metadata": {
        "id": "MAy_ZGTpFmhl",
        "colab_type": "code",
        "colab": {}
      },
      "source": [
        "#Save to a final file that uses the shortest length of all files...\n",
        "\n",
        "for key in keys:\n",
        "  session_df = pd.read_hdf('/content/drive/Shared drives/DSCI400/Waveform_Vocoded_Unequal_Data.h5',key=key)\n",
        "  \n",
        "  session_df.to_hdf('/content/drive/Shared drives/DSCI400/Waveform_Vocoded_Equalized_Data.h5',key=key,complevel=4,format='table')\n"
      ],
      "execution_count": 0,
      "outputs": []
    },
    {
      "cell_type": "code",
      "metadata": {
        "id": "GZVtqVa_F2Ll",
        "colab_type": "code",
        "colab": {}
      },
      "source": [
        ""
      ],
      "execution_count": 0,
      "outputs": []
    }
  ]
}