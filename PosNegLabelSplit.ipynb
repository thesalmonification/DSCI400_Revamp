{
  "nbformat": 4,
  "nbformat_minor": 0,
  "metadata": {
    "colab": {
      "name": "PosNegLabelSplit.ipynb",
      "provenance": [],
      "collapsed_sections": [],
      "authorship_tag": "ABX9TyPlHRzsTU7QhLvZ9VFbPoki",
      "include_colab_link": true
    },
    "kernelspec": {
      "name": "python3",
      "display_name": "Python 3"
    }
  },
  "cells": [
    {
      "cell_type": "markdown",
      "metadata": {
        "id": "view-in-github",
        "colab_type": "text"
      },
      "source": [
        "<a href=\"https://colab.research.google.com/github/thesalmonification/DSCI400_Revamp/blob/master/PosNegLabelSplit.ipynb\" target=\"_parent\"><img src=\"https://colab.research.google.com/assets/colab-badge.svg\" alt=\"Open In Colab\"/></a>"
      ]
    },
    {
      "cell_type": "markdown",
      "metadata": {
        "id": "PE6SoOsiazHl",
        "colab_type": "text"
      },
      "source": [
        "Imports"
      ]
    },
    {
      "cell_type": "code",
      "metadata": {
        "id": "zf3badKaZqlP",
        "colab_type": "code",
        "colab": {}
      },
      "source": [
        "import pandas as pd"
      ],
      "execution_count": 0,
      "outputs": []
    },
    {
      "cell_type": "markdown",
      "metadata": {
        "id": "Z0NVeDs1a3FA",
        "colab_type": "text"
      },
      "source": [
        "Google Drive Import"
      ]
    },
    {
      "cell_type": "code",
      "metadata": {
        "id": "ZFBAZ7LNaxsm",
        "colab_type": "code",
        "outputId": "583f601c-65bc-4798-bf91-c9fc149ca46e",
        "colab": {
          "base_uri": "https://localhost:8080/",
          "height": 123
        }
      },
      "source": [
        "#Written in Google Collab: add drive\n",
        "from google.colab import drive\n",
        "drive.mount('/content/drive')"
      ],
      "execution_count": 0,
      "outputs": [
        {
          "output_type": "stream",
          "text": [
            "Go to this URL in a browser: https://accounts.google.com/o/oauth2/auth?client_id=947318989803-6bn6qk8qdgf4n4g3pfee6491hc0brc4i.apps.googleusercontent.com&redirect_uri=urn%3aietf%3awg%3aoauth%3a2.0%3aoob&response_type=code&scope=email%20https%3a%2f%2fwww.googleapis.com%2fauth%2fdocs.test%20https%3a%2f%2fwww.googleapis.com%2fauth%2fdrive%20https%3a%2f%2fwww.googleapis.com%2fauth%2fdrive.photos.readonly%20https%3a%2f%2fwww.googleapis.com%2fauth%2fpeopleapi.readonly\n",
            "\n",
            "Enter your authorization code:\n",
            "··········\n",
            "Mounted at /content/drive\n"
          ],
          "name": "stdout"
        }
      ]
    },
    {
      "cell_type": "markdown",
      "metadata": {
        "id": "pVPQozZbhycW",
        "colab_type": "text"
      },
      "source": [
        "Separate sessions by Pos/Neg Session Label"
      ]
    },
    {
      "cell_type": "code",
      "metadata": {
        "id": "yQQHcsJ5bAYI",
        "colab_type": "code",
        "outputId": "af96fbcb-e1fd-42af-e384-a9feaa96b53c",
        "colab": {
          "base_uri": "https://localhost:8080/",
          "height": 432
        }
      },
      "source": [
        "#This script is desgined to separate the waveform tables by pos/neg emotion as the\n",
        "#first step in creating a test/train split for transfer learning...\n",
        "\n",
        "#Separate the pos/neg sessions by iterating over all label data; write pos/neg sessions to a csv file\n",
        "\n",
        "posEmo = ['0','4','6','11'] #Neutral, Joy/Happy, Surprise, Amusement\n",
        "negEmo = ['1','2','3','5','12'] #Anger, Disgust, Fear, Sadness, Anxiety\n",
        "\n",
        "posEmoSessions = []\n",
        "negEmoSessions = []\n",
        "\n",
        "#grab label data keys from previous csv file...\n",
        "label_keys = pd.read_csv('/content/drive/Shared drives/DSCI400_Revamp/Label_Data_Keys.csv',header=None)\n",
        "label_keys = list(label_keys[0])\n",
        "#print(label_keys)\n",
        "\n",
        "#iterate over each session, determine if emotion is pos/neg and save to appropriate file...\n",
        "for key in label_keys:\n",
        "  session_labels = pd.read_hdf('/content/drive/Shared drives/DSCI400_Revamp/Label_Data.h5',key=key).T\n",
        "\n",
        "  if session_labels['id'].to_numpy()[0] == '13': #determined patient 13 is outlier; do not include in data\n",
        "    #print('found 13')\n",
        "    continue\n",
        "\n",
        "  feltEmo = session_labels['feltEmo'].to_numpy()[0]\n",
        "\n",
        "  #Add to posEmo if positive emotion\n",
        "  if feltEmo in posEmo:\n",
        "    posEmoSessions.append(key[:-7])\n",
        "  #Add to negEmo if negative emotion\n",
        "  elif feltEmo in negEmo:\n",
        "    negEmoSessions.append(key[:-7])\n",
        "  #If emotion is not in either group, print error for debugging\n",
        "  else:\n",
        "    print('Error key: ' + key[:-7])\n",
        "\n",
        "\n",
        "posEmoSeries = pd.Series(posEmoSessions)\n",
        "negEmoSeries = pd.Series(negEmoSessions)\n",
        "\n",
        "\n",
        "print(posEmoSeries.head())\n",
        "print(negEmoSeries.head())\n",
        "\n",
        "print(posEmoSeries.tail())\n",
        "print(negEmoSeries.tail())\n",
        "\n",
        "#Save sessions to individual files\n",
        "posEmoSeries.to_csv('/content/drive/Shared drives/DSCI400_Revamp/PosEmoSessions.csv',header=False,index=False)\n",
        "negEmoSeries.to_csv('/content/drive/Shared drives/DSCI400_Revamp/NegEmoSessions.csv',header=False,index=False)"
      ],
      "execution_count": 0,
      "outputs": [
        {
          "output_type": "stream",
          "text": [
            "0    t2754\n",
            "1     t276\n",
            "2    t2750\n",
            "3    t2764\n",
            "4    t2758\n",
            "dtype: object\n",
            "0    t2762\n",
            "1    t2760\n",
            "2    t2752\n",
            "3    t2756\n",
            "4     t274\n",
            "dtype: object\n",
            "302    t1056\n",
            "303    t1050\n",
            "304    t1046\n",
            "305    t1048\n",
            "306      t10\n",
            "dtype: object\n",
            "195    t1052\n",
            "196    t1044\n",
            "197    t1058\n",
            "198    t1042\n",
            "199    t1054\n",
            "dtype: object\n"
          ],
          "name": "stdout"
        }
      ]
    },
    {
      "cell_type": "code",
      "metadata": {
        "id": "qMJPAPjibkhC",
        "colab_type": "code",
        "colab": {}
      },
      "source": [
        ""
      ],
      "execution_count": 0,
      "outputs": []
    }
  ]
}