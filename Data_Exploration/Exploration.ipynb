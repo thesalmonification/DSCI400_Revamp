{
  "nbformat": 4,
  "nbformat_minor": 0,
  "metadata": {
    "colab": {
      "name": "Exploration.ipynb",
      "provenance": [],
      "collapsed_sections": []
    },
    "kernelspec": {
      "name": "python3",
      "display_name": "Python 3"
    }
  },
  "cells": [
    {
      "cell_type": "markdown",
      "metadata": {
        "id": "mp80B2LOw4wl",
        "colab_type": "text"
      },
      "source": [
        "# Imports and Helper Funcs"
      ]
    },
    {
      "cell_type": "markdown",
      "metadata": {
        "id": "Or4m1btSMj_T",
        "colab_type": "text"
      },
      "source": [
        "### Imports"
      ]
    },
    {
      "cell_type": "code",
      "metadata": {
        "id": "Vniw2NQ4vliS",
        "colab_type": "code",
        "outputId": "9eaa4701-1557-4883-b212-dee3793d85a0",
        "colab": {
          "base_uri": "https://localhost:8080/",
          "height": 122
        }
      },
      "source": [
        "import matplotlib\n",
        "import matplotlib.pyplot as plt\n",
        "import numpy as np\n",
        "import os\n",
        "import pandas\n",
        "from collections import defaultdict\n",
        "from scipy.fft import fft, fftfreq, fftshift\n",
        "from scipy import signal\n",
        "from sklearn.cluster import KMeans\n",
        "from sklearn.decomposition import PCA\n",
        "from google.colab import drive\n",
        "\n",
        "drive.mount('/content/drive')\n",
        "# Need to manually move images from personal drive to shared drive\n",
        "#fig_path = '/content/drive/My Drive/test/'\n",
        "shared_path = '/content/drive/Shared drives/DSCI400_Revamp/Exploration_Plots/'\n",
        "\n",
        "# Paths for generated images\n",
        "label_key_path = '/content/drive/Shared drives/DSCI400_Revamp/Label_Data_Keys.csv'\n",
        "wav_key_path = '/content/drive/Shared drives/DSCI400_Revamp/Waveform_Data_Keys.csv'\n",
        "label_hdf_path = '/content/drive/Shared drives/DSCI400_Revamp/Label_Data.h5'\n",
        "wav_hdf_path = '/content/drive/Shared drives/DSCI400_Revamp/Waveform_Data.h5'\n",
        "\n",
        "# Relevant dictonaries to help code simplicity\n",
        "# \n",
        "labels = {0:\"Emotion\", 1:\"Arousal\", 2:\"Valence\", 3:\"Control\", 4:\"Predictability\"}\n",
        "channels = {0:'Fp1', 1:'AF3', 2:'F3', 3:'F7', 4:'FC5', 5:'FC1', 6:'C3', 7:'T7', 8:'CP5', 9:'CP1', 10:'P3',\n",
        "       11:'P7', 12:'PO3', 13:'O1', 14:'Oz', 15:'Pz', 16:'Fp2', 17:'AF4', 18:'Fz', 19:'F4', 20:'F8', 21:'FC6',\n",
        "       22:'FC2', 23:'Cz', 24:'C4', 25:'T8', 26:'CP6', 27:'CP2', 28:'P4', 29:'P8', 30:'PO4', 31:'O2'}\n",
        "emotions = {0:\"Neutral\", 1:\"Anger\", 2:\"Disgust\", 3:\"Fear\", 4:\"Happy\", 5:\"Sad\", 6:\"Surprise\", 11:\"Amusement\", 12:\"Anxiety\"}"
      ],
      "execution_count": 0,
      "outputs": [
        {
          "output_type": "stream",
          "text": [
            "Go to this URL in a browser: https://accounts.google.com/o/oauth2/auth?client_id=947318989803-6bn6qk8qdgf4n4g3pfee6491hc0brc4i.apps.googleusercontent.com&redirect_uri=urn%3aietf%3awg%3aoauth%3a2.0%3aoob&response_type=code&scope=email%20https%3a%2f%2fwww.googleapis.com%2fauth%2fdocs.test%20https%3a%2f%2fwww.googleapis.com%2fauth%2fdrive%20https%3a%2f%2fwww.googleapis.com%2fauth%2fdrive.photos.readonly%20https%3a%2f%2fwww.googleapis.com%2fauth%2fpeopleapi.readonly\n",
            "\n",
            "Enter your authorization code:\n",
            "··········\n",
            "Mounted at /content/drive\n"
          ],
          "name": "stdout"
        }
      ]
    },
    {
      "cell_type": "markdown",
      "metadata": {
        "id": "fvzoRADu_YTI",
        "colab_type": "text"
      },
      "source": [
        "### Helper Functions"
      ]
    },
    {
      "cell_type": "code",
      "metadata": {
        "id": "G9mlhyoCS6db",
        "colab_type": "code",
        "colab": {}
      },
      "source": [
        "def heat2D(x, y):\n",
        "  \"\"\"\n",
        "  Creates a matrix that contains the counts of every label value pair occurance.\n",
        "\n",
        "  Arguments:\n",
        "  x -- array containing values for one label\n",
        "  y -- array containing values for second label\n",
        "\n",
        "  Returns:\n",
        "  A matrix where each column gives the count of label pairs:\n",
        "    1st row: label 1 value\n",
        "    2nd row: label 2 value\n",
        "    3rd row: count\n",
        "  \"\"\"\n",
        "  # Initialize data structures\n",
        "  counts = {}\n",
        "  pairs = [[],[],[]]\n",
        "  for i in range(len(x)):\n",
        "    counts[x[i]] = defaultdict(int)\n",
        "\n",
        "  # Counts pair occurances\n",
        "  for i in range(len(x)):\n",
        "    counts[x[i]][y[i]] += 1\n",
        "\n",
        "  # Create matrix from dictionary\n",
        "  for x in counts:\n",
        "    for y in counts[x]:\n",
        "      pairs[0].append(x)\n",
        "      pairs[1].append(y)\n",
        "      pairs[2].append(counts[x][y])\n",
        "  return (pairs)"
      ],
      "execution_count": 0,
      "outputs": []
    },
    {
      "cell_type": "markdown",
      "metadata": {
        "id": "A5Uu7MHP92a9",
        "colab_type": "text"
      },
      "source": [
        "# Data Exploration"
      ]
    },
    {
      "cell_type": "markdown",
      "metadata": {
        "id": "Ux30hPoN7aXw",
        "colab_type": "text"
      },
      "source": [
        "### Label Matrix Creation"
      ]
    },
    {
      "cell_type": "code",
      "metadata": {
        "id": "eeIRr5gJ7Vm7",
        "colab_type": "code",
        "colab": {}
      },
      "source": [
        "# Creating a single matrix that contains all the labels for every session.\n",
        "# Each row of the matrix is a different label value\n",
        "\n",
        "# Extract label data hdf keys and initialize matrix\n",
        "label_keys = pandas.read_csv(label_key_path, header=None)\n",
        "label_keys = list(label_keys[0])\n",
        "label_matrix = [[],[],[],[],[]]\n",
        "\n",
        "# Iterate though label files and consildate into matrix\n",
        "for key in label_keys:\n",
        "  frame = pandas.read_hdf('/content/drive/Shared drives/DSCI400_Revamp/Label_Data.h5',key=key)\n",
        "  array = frame['Value'].iloc[:5].to_numpy()#[:,1]\n",
        "  for i in range(0,5):\n",
        "    label_matrix[i].append(int(array[i]))\n",
        "\n"
      ],
      "execution_count": 0,
      "outputs": []
    },
    {
      "cell_type": "markdown",
      "metadata": {
        "id": "zVCjzeMAsrtZ",
        "colab_type": "text"
      },
      "source": [
        "## Label Data Exploration"
      ]
    },
    {
      "cell_type": "code",
      "metadata": {
        "id": "IDFyKiiGCRyA",
        "colab_type": "code",
        "outputId": "9ca25a63-b94f-4147-b5d1-d0e28f2987bd",
        "colab": {
          "base_uri": "https://localhost:8080/",
          "height": 350
        }
      },
      "source": [
        "# Counting occurrances of emotions\n",
        "emot_count = defaultdict(int)\n",
        "for emotion in label_matrix[0]:\n",
        "  emot_count[emotions[emotion]] += 1\n",
        "#print(emot_count)\n",
        "\n",
        "# Print emotion counts as a histogram\n",
        "fig = plt.figure(figsize=(10,5))\n",
        "plt.bar(emot_count.keys(), emot_count.values())\n",
        "plt.xlabel(\"Emotion\")\n",
        "plt.ylabel(\"Count\")\n",
        "plt.title(\"Emotion Counts\")\n",
        "fig.savefig(shared_path+\"Emot_Count\")\n",
        "plt.show()"
      ],
      "execution_count": 0,
      "outputs": [
        {
          "output_type": "display_data",
          "data": {
            "image/png": "[encoded data removed]",
            "text/plain": [
              "<Figure size 720x360 with 1 Axes>"
            ]
          },
          "metadata": {
            "tags": []
          }
        }
      ]
    },
    {
      "cell_type": "markdown",
      "metadata": {
        "id": "RdvNp9eZM9VO",
        "colab_type": "text"
      },
      "source": [
        "### Label Correlation Heat Plots"
      ]
    },
    {
      "cell_type": "code",
      "metadata": {
        "id": "AKPHGp6kHp96",
        "colab_type": "code",
        "colab": {}
      },
      "source": [
        "# Creates scatter plots counting the number of label value pair occurances for\n",
        "# every pair.\n",
        "\n",
        "# # Create folders for scatter heat plots, ONLY NECESSAY FOR FIRST RUN\n",
        "# os.mkdir(shared_path+\"Scatter_Heat_Plots\")\n",
        "\n",
        "# Iterate through every possible label pairing\n",
        "for a in range(0,5):\n",
        "  for b in range(a+1,5):\n",
        "    #Create heat map matrix\n",
        "    x = label_matrix[a]\n",
        "    y = label_matrix[b]\n",
        "    heat = heat2D(x, y)\n",
        "    #print(labels[a] + \" vs \" + labels[b])\n",
        "    #print(np.array(heat))\n",
        "\n",
        "    #Plot\n",
        "    fig = plt.figure()\n",
        "    plt.scatter(heat[0], heat[1], c=heat[2], cmap=\"rainbow\")\n",
        "    plt.title(\"%s vs %s\" % (labels[a], labels[b]))\n",
        "    plt.ylabel(labels[b])\n",
        "    plt.xlabel(labels[a])\n",
        "    plt.colorbar()\n",
        "    #fig.savefig(fig_path+labels[a]+\"_\"+labels[b])\n",
        "    fig.savefig(shared_path+\"Scatter_Heat_Plots/\"+labels[a]+\"_\"+labels[b])\n",
        "    # plt.close()\n",
        "    fig.show()\n"
      ],
      "execution_count": 0,
      "outputs": []
    },
    {
      "cell_type": "markdown",
      "metadata": {
        "id": "OuwF6YQ4i_Kb",
        "colab_type": "text"
      },
      "source": [
        "### Individual Emotion Bar Charts"
      ]
    },
    {
      "cell_type": "code",
      "metadata": {
        "id": "2X6sYw68jEOT",
        "colab_type": "code",
        "colab": {}
      },
      "source": [
        "# Creates bar charts counting the number of label value pair (excluding Emotion \n",
        "# value) occurances for every pair in sessions with the same Emotion value.\n",
        "\n",
        "# # Create folders for bar plots, ONLY NECESSAY FOR FIRST RUN\n",
        "# os.mkdir(shared_path+\"Emotion_Specific_Corr\")\n",
        "\n",
        "x = label_matrix[0]\n",
        "# Iterate through non-Emotion labels\n",
        "for b in range(1,5):\n",
        "  # Generate count/ heat map\n",
        "  y = label_matrix[b]\n",
        "  heat = heat2D(x, y)\n",
        "  \n",
        "  # Iterate through each emotion\n",
        "  for emot in emotions:\n",
        "    emot_heat = [[],[]]\n",
        "    # Extract counts for relevant Emotion\n",
        "    for index in range(len(heat[0])):\n",
        "      if (heat[0][index] == emot):\n",
        "        emot_heat[0].append(heat[1][index])\n",
        "        emot_heat[1].append(heat[2][index])\n",
        "\n",
        "    # Plot\n",
        "    # print(labels[b]+\" for Emotion: \"+emotions[emot])\n",
        "    # print(np.array(emot_heat))\n",
        "    fig = plt.figure()\n",
        "    plt.bar(emot_heat[0], emot_heat[1])\n",
        "    plt.title(\"%s for Emotion: %s\" % (labels[b], emotions[emot]))\n",
        "    plt.ylabel(\"Occurances\")\n",
        "    plt.xlabel(labels[b]+\" value\")\n",
        "    fig.savefig(shared_path+\"Emotion_Specific_Corr/\"+labels[b]+\"_\"+emotions[emot])\n",
        "    # plt.close()\n",
        "    fig.show()"
      ],
      "execution_count": 0,
      "outputs": []
    },
    {
      "cell_type": "markdown",
      "metadata": {
        "id": "VhcEgudDnsTb",
        "colab_type": "text"
      },
      "source": [
        "### Compass Plot for Valence vs Arousal"
      ]
    },
    {
      "cell_type": "code",
      "metadata": {
        "id": "gvOZYD8Vn3mD",
        "colab_type": "code",
        "outputId": "2b9c6651-6b0d-49d0-8e95-d92377068f4b",
        "colab": {
          "base_uri": "https://localhost:8080/",
          "height": 416
        }
      },
      "source": [
        "#Creates a compass plot showing average valence vs average arousal for each\n",
        "#emotion.\n",
        "\n",
        "valence = label_matrix[2]\n",
        "arousal = label_matrix[1]\n",
        "emots = label_matrix[0]\n",
        "tot = len(valence)\n",
        "\n",
        "data = np.zeros((4,9))\n",
        "data[0] = list(emotions.keys())\n",
        "\n",
        "#Sum valence and arousal values for each emotion label\n",
        "for i in range(tot):\n",
        "  index = np.where(data[0] == emots[i])\n",
        "  data[1][index] += valence[i]\n",
        "  data[2][index] += arousal[i]\n",
        "  data[3][index] += 1\n",
        "#Compute Average\n",
        "for i in range(9):\n",
        "  data[1][i] = data[1][i]/data[3][i]\n",
        "  data[2][i] = data[2][i]/data[3][i]\n",
        "\n",
        "#Plot\n",
        "fig = plt.figure(figsize = (7,6))\n",
        "plt.rcParams.update({'font.size': 14})\n",
        "plt.scatter(data[1], data[2], c=data[0])\n",
        "for i in range(9):\n",
        "  plt.annotate(emotions[data[0][i]], xy=(data[1][i], data[2][i]), )\n",
        "plt.axvline(x=5)\n",
        "plt.axhline(y=5)\n",
        "plt.ylim((2,8))\n",
        "plt.xlim((1,9))\n",
        "plt.xlabel(\"Valence\")\n",
        "plt.ylabel(\"Arousal\")\n",
        "plt.title(\"Valence vs Arousal Compass\")\n",
        "fig.savefig(shared_path+\"Val_Arous_Compass\")\n",
        "plt.show()"
      ],
      "execution_count": 0,
      "outputs": [
        {
          "output_type": "display_data",
          "data": {
            "image/png": "[encoded data removed]",
            "text/plain": [
              "<Figure size 504x432 with 1 Axes>"
            ]
          },
          "metadata": {
            "tags": []
          }
        }
      ]
    },
    {
      "cell_type": "markdown",
      "metadata": {
        "id": "eFdqyU6F58XK",
        "colab_type": "text"
      },
      "source": [
        "### FFT Exploration"
      ]
    },
    {
      "cell_type": "markdown",
      "metadata": {
        "id": "g9uxd3F0fGuY",
        "colab_type": "text"
      },
      "source": [
        "FFTs"
      ]
    },
    {
      "cell_type": "code",
      "metadata": {
        "id": "AdYZpiZI5_zZ",
        "colab_type": "code",
        "colab": {}
      },
      "source": [
        "# Computes Fast Fourier Transforms (FFTs) for every channel in every session\n",
        "\n",
        "# Extract keys for session hdf files (EEG data & labels)\n",
        "key_frame = pandas.read_csv(wav_key_path, header=None)\n",
        "keys = key_frame.to_numpy()[:,0].tolist()\n",
        "\n",
        "# # Create folders for FFTs, ONLY NECESSAY FOR FIRST RUN\n",
        "# os.mkdir(shared_path+\"FFTs\")\n",
        "# os.mkdir(shared_path+\"FFTs/bySession\")\n",
        "# os.mkdir(shared_path+\"FFTs/byChannel\")\n",
        "# for key in keys:\n",
        "#  os.mkdir(shared_path+\"FFTs/bySession/\"+key)\n",
        "# for chnl_i in channels:\n",
        "#  os.mkdir(shared_path+\"FFTs/byChannel/\"+channels[chnl_i])\n",
        "\n",
        "\n",
        "# Iterate through every file and calculate FFTs of every channel\n",
        "for key in keys[:100]:\n",
        "\n",
        "  # Extract session emotion for title\n",
        "  label_data = pandas.read_hdf(label_hdf_path, key=key+\"_labels\")\n",
        "  emot = emotions[int(label_data.to_numpy()[0,0])]\n",
        "\n",
        "  # Extract EEG data and iterate through every channel\n",
        "  wav_data = pandas.read_hdf(wav_hdf_path, key=key)\n",
        "  for chnl_i in channels:\n",
        "    # Extract desired channel and remove DC offset\n",
        "    channel = wav_data.loc[:, channels[chnl_i]].to_numpy()\n",
        "    channel = channel - np.average(channel)\n",
        "    \n",
        "    # Perform FFT\n",
        "    transf = fft(channel.tolist())\n",
        "    freq = fftfreq(len(channel)) * 256\n",
        "\n",
        "    # Calculate indices corresponding to brainwave frequencies\n",
        "    cutoff_s = int(0.5*len(channel)/256)\n",
        "    cutoff_e = int(30*len(channel)/256)\n",
        "\n",
        "    # Plot FFT and save figure\n",
        "    fig = plt.figure()\n",
        "    plt.plot(freq[cutoff_s: cutoff_e], abs(transf[cutoff_s: cutoff_e]))\n",
        "    plt.title(\"Ch %s in Session %s (Emot: %s)\" % (channels[chnl_i], key, emot))\n",
        "    plt.ylabel(\"Magnitude\")\n",
        "    plt.xlabel(\"Frequency (Hz)\")\n",
        "    fig.savefig(shared_path+\"FFTs/bySession/\"+key+\"/\"+channels[chnl_i])\n",
        "    fig.savefig(shared_path+\"FFTs/byChannel/\"+channels[chnl_i]+\"/\"+key)\n",
        "    plt.close()\n",
        "\n"
      ],
      "execution_count": 0,
      "outputs": []
    }
  ]
}