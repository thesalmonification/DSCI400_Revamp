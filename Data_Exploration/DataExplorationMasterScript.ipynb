{
  "nbformat": 4,
  "nbformat_minor": 0,
  "metadata": {
    "colab": {
      "name": "DataExplorationMasterScript.ipynb",
      "provenance": [],
      "collapsed_sections": [],
      "authorship_tag": "ABX9TyMGZMm446p7uTfDo0eIs6Hh",
      "include_colab_link": true
    },
    "kernelspec": {
      "name": "python3",
      "display_name": "Python 3"
    }
  },
  "cells": [
    {
      "cell_type": "markdown",
      "metadata": {
        "id": "view-in-github",
        "colab_type": "text"
      },
      "source": [
        "<a href=\"https://colab.research.google.com/github/thesalmonification/DSCI400_Revamp/blob/master/DataExplorationMasterScript.ipynb\" target=\"_parent\"><img src=\"https://colab.research.google.com/assets/colab-badge.svg\" alt=\"Open In Colab\"/></a>"
      ]
    },
    {
      "cell_type": "markdown",
      "metadata": {
        "id": "FzO8rePSkxIZ",
        "colab_type": "text"
      },
      "source": [
        "Imports"
      ]
    },
    {
      "cell_type": "code",
      "metadata": {
        "id": "Y51tqKPckkP7",
        "colab_type": "code",
        "outputId": "1ebf1730-1ea2-45cd-efab-054aad3868fa",
        "colab": {
          "base_uri": "https://localhost:8080/",
          "height": 33
        }
      },
      "source": [
        "#Add Shared Google Drive Access\n",
        "from google.colab import drive\n",
        "drive.mount('/content/drive')"
      ],
      "execution_count": 0,
      "outputs": [
        {
          "output_type": "stream",
          "text": [
            "Drive already mounted at /content/drive; to attempt to forcibly remount, call drive.mount(\"/content/drive\", force_remount=True).\n"
          ],
          "name": "stdout"
        }
      ]
    },
    {
      "cell_type": "markdown",
      "metadata": {
        "id": "LqyG3ubNuw2k",
        "colab_type": "text"
      },
      "source": [
        "Data Exploration: EEGVisualization.ipynb"
      ]
    },
    {
      "cell_type": "code",
      "metadata": {
        "id": "kvgTZMcXlCG1",
        "colab_type": "code",
        "colab": {}
      },
      "source": [
        "#Running the script \"EEGVisualization.ipynb\" demonstrates that we could\n",
        "#sucessfully read our raw data and display it using a speciality built \n",
        "#package called NME.\n",
        "%run '/content/drive/Shared drives/DSCI400_Revamp/EEG_Visualization.ipynb'"
      ],
      "execution_count": 0,
      "outputs": []
    },
    {
      "cell_type": "markdown",
      "metadata": {
        "id": "TNgvB38yu0Az",
        "colab_type": "text"
      },
      "source": [
        "Data Exploration: ChannelEnergy.ipynb"
      ]
    },
    {
      "cell_type": "code",
      "metadata": {
        "id": "NcvVbPwbl2wR",
        "colab_type": "code",
        "colab": {}
      },
      "source": [
        "#Our initial attempt at understanding our data relied on the 2-norm \n",
        "#to measure the \"energy\" of our EEGs. This script calculates 2-norm values for \n",
        "#ALL waveforms in the data set. It then separates energy values by emotional \n",
        "#label and electode, by creating multiple box-and-whisker plots. An important \n",
        "#insight we learned in this step was that major energy outliers existed. In our \n",
        "#next step, we determined where those outliers came from.\n",
        "%run '/content/drive/Shared drives/DSCI400_Revamp/ChannelEnergy.ipynb'"
      ],
      "execution_count": 0,
      "outputs": []
    },
    {
      "cell_type": "markdown",
      "metadata": {
        "id": "jfXWfjCau3Xa",
        "colab_type": "text"
      },
      "source": [
        "Data Exploration: 2_NormOutlier.ipynb"
      ]
    },
    {
      "cell_type": "code",
      "metadata": {
        "id": "usRxYmhUulc5",
        "colab_type": "code",
        "colab": {}
      },
      "source": [
        "#We wanted to determine where the 2-norm outlier values came from, so this script\n",
        "#separated 2-norm values by patient id, again displaying the results as \n",
        "#box-and-whisker plots. From this, we determined that a single electrode on \n",
        "#patient 13 was the cause of outliers. We will remove these values during the \n",
        "#modeling phase of the project.\n",
        "%run '/content/drive/Shared drives/DSCI400_Revamp/2_NormOutlier.ipynb'"
      ],
      "execution_count": 0,
      "outputs": []
    },
    {
      "cell_type": "markdown",
      "metadata": {
        "id": "g3_0yuFCu6_Q",
        "colab_type": "text"
      },
      "source": [
        "Data Exploration: Wavelets.ipynb"
      ]
    },
    {
      "cell_type": "code",
      "metadata": {
        "id": "8B1SSDSXuoOw",
        "colab_type": "code",
        "colab": {}
      },
      "source": [
        "#The script \"Wavelets.ipynb attempted to quantify wavelet coefficients of \n",
        "#individual waveforms. As the Wavelet Transform is a technique unfamiliar to\n",
        "#most of the team, we did not uncover any significants insights from this script.\n",
        "%run '/content/drive/Shared drives/DSCI400_Revamp/Wavelets.ipynb'"
      ],
      "execution_count": 0,
      "outputs": []
    },
    {
      "cell_type": "markdown",
      "metadata": {
        "id": "VRxTDKouu-5b",
        "colab_type": "text"
      },
      "source": [
        "Data Exploration EEGDiscreteCosineTransform.ipynb"
      ]
    },
    {
      "cell_type": "code",
      "metadata": {
        "id": "6GlFciOeuquC",
        "colab_type": "code",
        "colab": {}
      },
      "source": [
        "#The script \"EEGDiscreteCosineTransform.ipynb\" tried the Discrete Cosine \n",
        "#transform, as it was a technique more familiar to the group. From the \n",
        "#transforms of waveforms, we can see the cos coefficients that make up these \n",
        "#signals. Our next step to this transform is to determine if correlation exists \n",
        "#between the cos coefficients.\n",
        "%run '/content/drive/Shared drives/DSCI400_Revamp/EEGDiscreteCosineTransform.ipynb'"
      ],
      "execution_count": 0,
      "outputs": []
    },
    {
      "cell_type": "markdown",
      "metadata": {
        "id": "APCEyoPg9G-J",
        "colab_type": "text"
      },
      "source": [
        "Data Exploration: Exploration.ipynb"
      ]
    },
    {
      "cell_type": "code",
      "metadata": {
        "id": "n0ptRHAh9HqA",
        "colab_type": "code",
        "colab": {}
      },
      "source": [
        "#This script contains a variety of Data Exploration techniques, including PCA, \n",
        "#Bar Charts, Correlation Heatplots, and FFTs. An important insight we noticed \n",
        "#here was in the FFT files. While FFTs tend to have near-identical spectra, \n",
        "#abnormal spikes within the 8-13Hz range occasionally appear. Our next step \n",
        "#with the FFTs is to isolate this frequency range to see how distinct these \n",
        "#spikes are.\n",
        "%run '/content/drive/Shared drives/DSCI400_Revamp/Exploration.ipynb'"
      ],
      "execution_count": 0,
      "outputs": []
    }
  ]
}