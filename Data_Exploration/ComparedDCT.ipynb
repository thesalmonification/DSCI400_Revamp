{
  "nbformat": 4,
  "nbformat_minor": 0,
  "metadata": {
    "colab": {
      "name": "ComparedDCT.ipynb",
      "provenance": [],
      "collapsed_sections": []
    },
    "kernelspec": {
      "name": "python3",
      "display_name": "Python 3"
    }
  },
  "cells": [
    {
      "cell_type": "markdown",
      "metadata": {
        "id": "U89rHLz59N75",
        "colab_type": "text"
      },
      "source": [
        "**Necessary Imports**"
      ]
    },
    {
      "cell_type": "code",
      "metadata": {
        "id": "YHEo6fmIwLk6",
        "colab_type": "code",
        "colab": {}
      },
      "source": [
        "import numpy as np\n",
        "import pandas as pd\n",
        "from scipy.fftpack import dct\n",
        "import matplotlib.pyplot as plt\n",
        "import os\n",
        "import shutil\n",
        "%matplotlib inline"
      ],
      "execution_count": 0,
      "outputs": []
    },
    {
      "cell_type": "code",
      "metadata": {
        "id": "21yqQk6nwVSl",
        "colab_type": "code",
        "outputId": "d708e46c-5d7d-491d-95da-a98612cc9ca0",
        "colab": {
          "base_uri": "https://localhost:8080/",
          "height": 122
        }
      },
      "source": [
        "from google.colab import drive\n",
        "drive.mount('/content/drive')"
      ],
      "execution_count": 0,
      "outputs": [
        {
          "output_type": "stream",
          "text": [
            "Go to this URL in a browser: https://accounts.google.com/o/oauth2/auth?client_id=947318989803-6bn6qk8qdgf4n4g3pfee6491hc0brc4i.apps.googleusercontent.com&redirect_uri=urn%3aietf%3awg%3aoauth%3a2.0%3aoob&response_type=code&scope=email%20https%3a%2f%2fwww.googleapis.com%2fauth%2fdocs.test%20https%3a%2f%2fwww.googleapis.com%2fauth%2fdrive%20https%3a%2f%2fwww.googleapis.com%2fauth%2fdrive.photos.readonly%20https%3a%2f%2fwww.googleapis.com%2fauth%2fpeopleapi.readonly\n",
            "\n",
            "Enter your authorization code:\n",
            "··········\n",
            "Mounted at /content/drive\n"
          ],
          "name": "stdout"
        }
      ]
    },
    {
      "cell_type": "markdown",
      "metadata": {
        "id": "8VNIgVNc9Wd3",
        "colab_type": "text"
      },
      "source": [
        "**Channel and Emotion Mappings**"
      ]
    },
    {
      "cell_type": "code",
      "metadata": {
        "id": "j9E87j109QUe",
        "colab_type": "code",
        "colab": {}
      },
      "source": [
        "channels = {0:'Fp1', 1:'AF3', 2:'F3', 3:'F7', 4:'FC5', 5:'FC1', 6:'C3', 7:'T7', 8:'CP5', 9:'CP1', 10:'P3',\n",
        "       11:'P7', 12:'PO3', 13:'O1', 14:'Oz', 15:'Pz', 16:'Fp2', 17:'AF4', 18:'Fz', 19:'F4', 20:'F8', 21:'FC6',\n",
        "       22:'FC2', 23:'Cz', 24:'C4', 25:'T8', 26:'CP6', 27:'CP2', 28:'P4', 29:'P8', 30:'PO4', 31:'O2'}\n",
        "emotions = {0:\"Neutral\", 1:\"Anger\", 2:\"Disgust\", 3:\"Fear\", 4:\"Happy\", 5:\"Sad\", 6:\"Surprise\", 11:\"Amusement\", 12:\"Anxiety\"}\n",
        "\n",
        "path = os.path.join('/content/drive/Shared drives/DSCI400_Revamp','DCT Plots')\n",
        "try:\n",
        "  os.mkdir(path)\n",
        "except:\n",
        "  print('Overwriting the folder')\n",
        "  shutil.rmtree(path)\n",
        "  os.mkdir(path)"
      ],
      "execution_count": 0,
      "outputs": []
    },
    {
      "cell_type": "markdown",
      "metadata": {
        "id": "s75fnX1D9brq",
        "colab_type": "text"
      },
      "source": [
        "**Helper Function to Sort Each DCT by Channel and Emotion**"
      ]
    },
    {
      "cell_type": "code",
      "metadata": {
        "id": "HcctWgqbwdRU",
        "colab_type": "code",
        "colab": {}
      },
      "source": [
        "def plot_dcts(lower_freq, upper_freq):\n",
        "  \"\"\"\n",
        "  This function loads the EEG data and plots the DCT of each EEG from the range\n",
        "  [lower, upper] inclusive.\n",
        "  \"\"\"\n",
        "  # First, initialize the nested dictionary to contain all possible pairs of\n",
        "  # channels and emotions. data will store each set of DCT's as a list of numpy \n",
        "  # arrays\n",
        "  data = {}\n",
        "  c = channels.values()\n",
        "  e = emotions.keys()\n",
        "  for key1 in c:\n",
        "    data[key1] = {}\n",
        "    for key2 in e:\n",
        "      data[key1][key2] = []\n",
        "  \n",
        "  # Read each session and determine which emotion an individual felt in session\n",
        "  # i; then, take the DCT for each channel and sort accordingly\n",
        "  for i in range(2,4000,2): #Hard coded - will need to fix at some point\n",
        "    try:\n",
        "      comp = pd.read_hdf('/content/drive/Shared drives/DSCI400_Revamp/Label_Data.h5', key = 't' + str(i) + '_labels').transpose()\n",
        "      comp.index = ['t' + str(i) + '_labels']\n",
        "      df = pd.read_hdf('/content/drive/Shared drives/DSCI400_Revamp/Waveform_Vocoded_Equalized_Data.h5', 't' + str(i)).transpose()\n",
        "    except:\n",
        "      continue\n",
        "    emotion_val = int(comp.loc['t' + str(i) + '_labels', 'feltEmo'])\n",
        "    for chan in c:\n",
        "      vector = df.loc[chan,:].to_numpy()\n",
        "      transform = dct(vector)\n",
        "      transform = transform[lower_freq:upper_freq+1]\n",
        "      data[chan][emotion_val].append(transform)\n",
        "  return data"
      ],
      "execution_count": 0,
      "outputs": []
    },
    {
      "cell_type": "markdown",
      "metadata": {
        "id": "fHdB1MxE9jAD",
        "colab_type": "text"
      },
      "source": [
        "**Main Function to Plot and Save DCT's Grouped By Channel and Emotion**\n",
        "\n"
      ]
    },
    {
      "cell_type": "markdown",
      "metadata": {
        "id": "nQqIL-m19sYL",
        "colab_type": "text"
      },
      "source": [
        "Includes performance measurements with the \"time\" library"
      ]
    },
    {
      "cell_type": "code",
      "metadata": {
        "id": "5iwkSa7V1M3w",
        "colab_type": "code",
        "colab": {}
      },
      "source": [
        "import time\n",
        "\n",
        "def run_and_plot(lower_freq = 2, upper_freq = 30):\n",
        "  \"\"\"\n",
        "  This function plots the all DCT's grouped by channel and emotion. The function\n",
        "  defaults to plotting and saving the DCT's between 2 Hz and 30 Hz, inclusive.\n",
        "  \"\"\"\n",
        "  # Phase 1: Get the data of all the DCT's grouped by channel and emotion\n",
        "  print('Beginning Phase 1')\n",
        "  start_phase1 = time.time()\n",
        "  channel_emotion_pairs = plot_dcts(lower_freq, upper_freq)\n",
        "  end_phase1 = time.time()\n",
        "  print('Phase 1 completed in ', end_phase1 - start_phase1, ' seconds')\n",
        "\n",
        "  # Phase 2: Plot each group of DCT's on the same plot and save it to the Google\n",
        "  # Drive\n",
        "  print('Beginning Phase 2')\n",
        "  start_phase2 = time.time()\n",
        "  for key1 in channel_emotion_pairs:\n",
        "    for key2 in channel_emotion_pairs[key1]:\n",
        "      matrix = channel_emotion_pairs[key1][key2]\n",
        "      fig = plt.figure()\n",
        "      for vec in matrix:\n",
        "        plt.scatter(range(lower_freq, upper_freq+1), vec)\n",
        "      plt.plot(range(lower_freq - 1, upper_freq + 2), [0]*(upper_freq + 3 - lower_freq), 'k-', alpha = 0.6)\n",
        "      plt.xlabel('Cosine Frequency (Hz)')\n",
        "      plt.ylabel('Magnitude')\n",
        "      plt.title('Channel ' + key1 + ' for the Emotion \\\"' + emotions[key2] + '\\\"')\n",
        "      fig.savefig('/content/drive/Shared drives/DSCI400_Revamp/DCT Plots/Channel ' + key1 + ';' + emotions[key2] + ' Emotion')\n",
        "      plt.close()\n",
        "  end_phase2 = time.time()\n",
        "  print('Phase 2 completed in ', end_phase2 - start_phase2, ' seconds')\n",
        "  print('Overall process completed in ', end_phase2 - start_phase1, ' seconds')"
      ],
      "execution_count": 0,
      "outputs": []
    },
    {
      "cell_type": "code",
      "metadata": {
        "id": "ega2mlc24OE4",
        "colab_type": "code",
        "outputId": "8d394562-72d2-4a91-83d5-6b11c6078a36",
        "colab": {
          "base_uri": "https://localhost:8080/",
          "height": 102
        }
      },
      "source": [
        "run_and_plot()"
      ],
      "execution_count": 0,
      "outputs": [
        {
          "output_type": "stream",
          "text": [
            "Beginning Phase 1\n",
            "Phase 1 completed in  48.76813364028931  seconds\n",
            "Beginning Phase 2\n",
            "Phase 2 completed in  87.50965189933777  seconds\n",
            "Overall process completed in  136.27866172790527  seconds\n"
          ],
          "name": "stdout"
        }
      ]
    }
  ]
}