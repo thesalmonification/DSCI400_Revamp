{
  "nbformat": 4,
  "nbformat_minor": 0,
  "metadata": {
    "colab": {
      "name": "CNN_Model.ipynb",
      "provenance": [],
      "collapsed_sections": [],
      "include_colab_link": true
    },
    "kernelspec": {
      "name": "python3",
      "display_name": "Python 3"
    },
    "accelerator": "GPU"
  },
  "cells": [
    {
      "cell_type": "markdown",
      "metadata": {
        "id": "view-in-github",
        "colab_type": "text"
      },
      "source": [
        "<a href=\"https://colab.research.google.com/github/thesalmonification/DSCI400_Revamp/blob/master/CNN_Model.ipynb\" target=\"_parent\"><img src=\"https://colab.research.google.com/assets/colab-badge.svg\" alt=\"Open In Colab\"/></a>"
      ]
    },
    {
      "cell_type": "markdown",
      "metadata": {
        "id": "RZcpi1SPTxvF",
        "colab_type": "text"
      },
      "source": [
        "Imports"
      ]
    },
    {
      "cell_type": "code",
      "metadata": {
        "id": "ReNcKL1LtObj",
        "colab_type": "code",
        "colab": {}
      },
      "source": [
        "import matplotlib.pyplot as plt\n",
        "import numpy as np\n",
        "import pandas as pd\n",
        "import tensorflow as tf\n",
        "\n",
        "from sklearn.metrics import roc_curve, auc\n",
        "from sklearn.model_selection import train_test_split, KFold"
      ],
      "execution_count": 0,
      "outputs": []
    },
    {
      "cell_type": "markdown",
      "metadata": {
        "id": "LFjDMgQ4T0DY",
        "colab_type": "text"
      },
      "source": [
        "Add Google Shared Drive"
      ]
    },
    {
      "cell_type": "code",
      "metadata": {
        "id": "4_HAifyMtTfY",
        "colab_type": "code",
        "outputId": "40bd724e-8922-4cc6-b1f1-dd1ce79a92eb",
        "colab": {
          "base_uri": "https://localhost:8080/",
          "height": 122
        }
      },
      "source": [
        "#Written in Google Collab: add drive\n",
        "from google.colab import drive\n",
        "drive.mount('/content/drive')"
      ],
      "execution_count": 0,
      "outputs": [
        {
          "output_type": "stream",
          "text": [
            "Go to this URL in a browser: https://accounts.google.com/o/oauth2/auth?client_id=947318989803-6bn6qk8qdgf4n4g3pfee6491hc0brc4i.apps.googleusercontent.com&redirect_uri=urn%3aietf%3awg%3aoauth%3a2.0%3aoob&response_type=code&scope=email%20https%3a%2f%2fwww.googleapis.com%2fauth%2fdocs.test%20https%3a%2f%2fwww.googleapis.com%2fauth%2fdrive%20https%3a%2f%2fwww.googleapis.com%2fauth%2fdrive.photos.readonly%20https%3a%2f%2fwww.googleapis.com%2fauth%2fpeopleapi.readonly\n",
            "\n",
            "Enter your authorization code:\n",
            "··········\n",
            "Mounted at /content/drive\n"
          ],
          "name": "stdout"
        }
      ]
    },
    {
      "cell_type": "markdown",
      "metadata": {
        "id": "Fwfbr4gxT3mj",
        "colab_type": "text"
      },
      "source": [
        "Load Data and Labels Arrays"
      ]
    },
    {
      "cell_type": "code",
      "metadata": {
        "id": "llm0lbPmtZ1D",
        "colab_type": "code",
        "colab": {}
      },
      "source": [
        "#Load in the data...\n",
        "data_tensor = np.load('/content/drive/Shared drives/DSCI400_Revamp/eq_data_tensor_1D.npy')\n",
        "label_array = np.load('/content/drive/Shared drives/DSCI400_Revamp/eq_label_array_1D.npy')"
      ],
      "execution_count": 0,
      "outputs": []
    },
    {
      "cell_type": "markdown",
      "metadata": {
        "id": "vNH6LdbHUC43",
        "colab_type": "text"
      },
      "source": [
        "Make Test/Train Split"
      ]
    },
    {
      "cell_type": "code",
      "metadata": {
        "id": "hDTRZ1IBtccz",
        "colab_type": "code",
        "colab": {}
      },
      "source": [
        "#Separate into test/train\n",
        "X_train, X_test, y_train, y_test = train_test_split(data_tensor, label_array, test_size=0.33)"
      ],
      "execution_count": 0,
      "outputs": []
    },
    {
      "cell_type": "markdown",
      "metadata": {
        "id": "oOyKxCqzUKIN",
        "colab_type": "text"
      },
      "source": [
        "Make CNN Model"
      ]
    },
    {
      "cell_type": "code",
      "metadata": {
        "id": "E8NVzpEvkkg2",
        "colab_type": "code",
        "colab": {}
      },
      "source": [
        "def compileModelTime():\n",
        "  model2 = tf.keras.Sequential()\n",
        "\n",
        "  model2.add(tf.keras.layers.Convolution1D(64, kernel_size=32, activation='tanh', input_shape=(time_len,1)))\n",
        "  model2.add(tf.keras.layers.Convolution1D(128, kernel_size=16, activation='tanh'))\n",
        "  model2.add(tf.keras.layers.Convolution1D(256, kernel_size=8, activation='tanh'))\n",
        "  model2.add(tf.keras.layers.Convolution1D(256, kernel_size=8, activation='tanh'))\n",
        "  model2.add(tf.keras.layers.Convolution1D(256, kernel_size=8, activation='tanh'))\n",
        "  model2.add(tf.keras.layers.Convolution1D(512, kernel_size=4, activation='tanh'))\n",
        "\n",
        "  model2.add(tf.keras.layers.GlobalMaxPooling1D())\n",
        "  model2.add(tf.keras.layers.Dense(1, activation='sigmoid'))\n",
        "\n",
        "  model2.compile(loss='binary_crossentropy', optimizer='adam', metrics=['accuracy'])\n",
        "  return model2"
      ],
      "execution_count": 0,
      "outputs": []
    },
    {
      "cell_type": "markdown",
      "metadata": {
        "id": "IlnwYTW_USBX",
        "colab_type": "text"
      },
      "source": [
        "Make Model, Train, and Plot Accuracy/Loss Curves"
      ]
    },
    {
      "cell_type": "code",
      "metadata": {
        "colab_type": "code",
        "id": "F60SmanXdiBT",
        "colab": {}
      },
      "source": [
        "## Generates a time input CNN and creates train vs validation graphs for loss \n",
        "## and accuracy over 50 epochs\n",
        "\n",
        "#Make Model\n",
        "model2 = compileModelTime()\n",
        "model2.summary()\n",
        "\n",
        "#Train Model\n",
        "history = model2.fit(X_train, y_train, epochs=25, batch_size=64, validation_data = (X_test, y_test), verbose=1)\n",
        "test_loss2, test_acc2 = model2.evaluate(X_test,y_test)\n",
        "\n",
        "# Plot training & validation accuracy values\n",
        "plt.figure(figsize=(12,10))\n",
        "plt.subplot(2, 1, 1)\n",
        "plt.plot(history.history['accuracy'])\n",
        "plt.plot(history.history['val_accuracy'])\n",
        "plt.title('Time Model Accuracy')\n",
        "plt.ylabel('Accuracy')\n",
        "plt.xlabel('Epoch')\n",
        "plt.legend(['Train', 'Validation'], loc='upper left')\n",
        "\n",
        "# Plot training & validation loss values\n",
        "plt.subplot(2, 1, 2)\n",
        "plt.plot(history.history['loss'])\n",
        "plt.plot(history.history['val_loss'])\n",
        "plt.title('Time Model Loss')\n",
        "plt.ylabel('Loss')\n",
        "plt.xlabel('Epoch')\n",
        "plt.legend(['Train', 'Validation'], loc='lower left')\n",
        "\n",
        "#Save figure and plot\n",
        "#plt.savefig('/content/drive/Shared drives/DSCI400_Revamp/Code/ModelingTrainvsValidateTIME.png')\n",
        "plt.show()\n",
        "\n",
        "#Destroy the old model to prevent overloading GPU\n",
        "tf.keras.backend.clear_session()"
      ],
      "execution_count": 0,
      "outputs": []
    },
    {
      "cell_type": "markdown",
      "metadata": {
        "id": "i7kmIKUTVD46",
        "colab_type": "text"
      },
      "source": [
        "Plot ROC curve"
      ]
    },
    {
      "cell_type": "code",
      "metadata": {
        "id": "IzD-eSAe7b-p",
        "colab_type": "code",
        "colab": {}
      },
      "source": [
        "## Trains a model using the epochs determined from the two cells above and \n",
        "## generates an ROC curve\n",
        "\n",
        "# Model training\n",
        "model_auc = compileModelFFT()\n",
        "model_auc.fit(X_train_fft, y_train_fft, epochs=25, batch_size=32, validation_data = (X_test_fft, y_test_fft), verbose=1)\n",
        "\n",
        "# ROC creationg\n",
        "y_pred_auc = model_auc.predict(X_test_fft).ravel()\n",
        "\n",
        "#print(sum(y_pred_auc > 0.5))\n",
        "\n",
        "fpr_auc, tpr_auc, threshold_auc = roc_curve(y_test_fft, y_pred_auc)\n",
        "auc_forimg = auc(fpr_auc, tpr_auc)\n",
        "\n",
        "plt.plot(fpr_auc, tpr_auc, label = 'FFT model AUC = {:.3f}'.format(auc_forimg))\n",
        "plt.xlabel('False positive rate')\n",
        "plt.ylabel('True positive rate')\n",
        "plt.title('ROC Curve')\n",
        "plt.legend(loc='best')\n",
        "#plt.savefig('/content/drive/Shared drives/DSCI400_Revamp/Code/Modeling/CNN_ROC.png')\n",
        "plt.show()"
      ],
      "execution_count": 0,
      "outputs": []
    },
    {
      "cell_type": "markdown",
      "metadata": {
        "id": "406DTG_qVMrX",
        "colab_type": "text"
      },
      "source": [
        "Plot 10-Fold Cross Validation Curve"
      ]
    },
    {
      "cell_type": "code",
      "metadata": {
        "id": "QBUwgbP0ADAi",
        "colab_type": "code",
        "colab": {}
      },
      "source": [
        "## Perform 10-fold cross validation and generates ROC curves with average AUC\n",
        "## and generates fold accuracy distribution with average accuracy\n",
        "\n",
        "fold_accuracies = []\n",
        "auc_list = []\n",
        "n_split=10\n",
        "i = 0;\n",
        "\n",
        "#For each fold, generate a model and test it\n",
        "for train_index,test_index in KFold(n_split,shuffle=True).split(fft_tensor):\n",
        "  x_foldtrain, x_foldtest = fft_tensor[train_index], fft_tensor[test_index]\n",
        "  y_foldtrain, y_foldtest = label_array[train_index], label_array[test_index]\n",
        "\n",
        "  i += 1\n",
        "\n",
        "  model = compileModelFFT()\n",
        "\n",
        "\n",
        "  history = model.fit(x_foldtrain, y_foldtrain, epochs=25, batch_size=32, verbose=0)\n",
        "  test_loss, test_acc = model.evaluate(x_foldtest, y_foldtest)\n",
        "  fold_accuracies.append(test_acc)\n",
        "  \n",
        "  y_pred = model.predict(x_foldtest).ravel()\n",
        "  fpr, tpr, threshold = roc_curve(y_foldtest, y_pred)\n",
        "  auc1 = auc(fpr, tpr)\n",
        "  auc_list.append(auc1)\n",
        "  plt.plot(fpr, tpr, label = 'Fold {} AUC = {:.3f}'.format(i, auc1))\n",
        "\n",
        "  tf.keras.backend.clear_session()\n",
        "  \n",
        "  \n",
        "  print(\"The Number of 1's is: {:d}\".format(sum(y_pred > 0.5)))\n",
        "  print(\"The Number of 0's is: {:d}\".format(sum(y_pred <= 0.5)))\n",
        "  print('-------------------------------------------')\n",
        "plt.xlabel('False positive rate')\n",
        "plt.ylabel('True positive rate')\n",
        "plt.title('ROC Curves (Avg. AUC = {:.3f})'.format(np.average(auc_list)))\n",
        "plt.legend(loc='best')\n",
        "plt.show()\n",
        "\n",
        "plt.hist(np.array(fold_accuracies) * 100)\n",
        "plt.title('N-fold Cross Validation: {:.3f}% Avg. Accuracy'.format(np.average(fold_accuracies) * 100))\n",
        "plt.xlabel('Accuracy (%)')\n",
        "plt.ylabel('Number of Folds')\n",
        "plt.show()"
      ],
      "execution_count": 0,
      "outputs": []
    }
  ]
}