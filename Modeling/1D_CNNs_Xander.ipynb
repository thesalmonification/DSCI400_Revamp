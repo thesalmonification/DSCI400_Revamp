{
  "nbformat": 4,
  "nbformat_minor": 0,
  "metadata": {
    "colab": {
      "name": "1D_CNNs_Xander.ipynb",
      "provenance": [],
      "collapsed_sections": []
    },
    "kernelspec": {
      "name": "python3",
      "display_name": "Python 3"
    },
    "accelerator": "GPU"
  },
  "cells": [
    {
      "cell_type": "code",
      "metadata": {
        "id": "ReNcKL1LtObj",
        "colab_type": "code",
        "colab": {}
      },
      "source": [
        "import tensorflow as tf\n",
        "import numpy as np\n",
        "import pandas as pd\n",
        "from sklearn.model_selection import train_test_split\n",
        "import matplotlib.pyplot as plt\n",
        "from sklearn.metrics import roc_curve, auc"
      ],
      "execution_count": 0,
      "outputs": []
    },
    {
      "cell_type": "code",
      "metadata": {
        "id": "4_HAifyMtTfY",
        "colab_type": "code",
        "outputId": "7bb9b112-35c7-4361-8031-6a5391b3d50f",
        "colab": {
          "base_uri": "https://localhost:8080/",
          "height": 122
        }
      },
      "source": [
        "#Written in Google Collab: add drive\n",
        "from google.colab import drive\n",
        "drive.mount('/content/drive')"
      ],
      "execution_count": 0,
      "outputs": [
        {
          "output_type": "stream",
          "text": [
            "Go to this URL in a browser: https://accounts.google.com/o/oauth2/auth?client_id=947318989803-6bn6qk8qdgf4n4g3pfee6491hc0brc4i.apps.googleusercontent.com&redirect_uri=urn%3aietf%3awg%3aoauth%3a2.0%3aoob&response_type=code&scope=email%20https%3a%2f%2fwww.googleapis.com%2fauth%2fdocs.test%20https%3a%2f%2fwww.googleapis.com%2fauth%2fdrive%20https%3a%2f%2fwww.googleapis.com%2fauth%2fdrive.photos.readonly%20https%3a%2f%2fwww.googleapis.com%2fauth%2fpeopleapi.readonly\n",
            "\n",
            "Enter your authorization code:\n",
            "··········\n",
            "Mounted at /content/drive\n"
          ],
          "name": "stdout"
        }
      ]
    },
    {
      "cell_type": "code",
      "metadata": {
        "id": "llm0lbPmtZ1D",
        "colab_type": "code",
        "outputId": "bb8583f8-dc87-4b2e-a2f2-c339bc91c7f2",
        "colab": {
          "base_uri": "https://localhost:8080/",
          "height": 51
        }
      },
      "source": [
        "#Load in the data...\n",
        "data_tensor = np.load('/content/drive/Shared drives/DSCI400_Revamp/data_tensor_1D.npy')\n",
        "label_array = np.load('/content/drive/Shared drives/DSCI400_Revamp/label_array_1D.npy')\n",
        "\n",
        "print(data_tensor.shape)\n",
        "print(label_array.shape)\n"
      ],
      "execution_count": 0,
      "outputs": [
        {
          "output_type": "stream",
          "text": [
            "(16224, 6080, 1)\n",
            "(16224,)\n"
          ],
          "name": "stdout"
        }
      ]
    },
    {
      "cell_type": "code",
      "metadata": {
        "id": "hDTRZ1IBtccz",
        "colab_type": "code",
        "outputId": "6a26ddea-8b2b-401f-8118-56d654d38cf8",
        "colab": {
          "base_uri": "https://localhost:8080/",
          "height": 85
        }
      },
      "source": [
        "#Separate into test/train\n",
        "X_train, X_test, y_train, y_test = train_test_split(data_tensor, label_array, test_size=0.33)\n",
        "\n",
        "print(X_train.shape)\n",
        "print(y_train.shape)\n",
        "print(X_test.shape)\n",
        "print(y_test.shape)\n"
      ],
      "execution_count": 0,
      "outputs": [
        {
          "output_type": "stream",
          "text": [
            "(10870, 6080, 1)\n",
            "(10870,)\n",
            "(5354, 6080, 1)\n",
            "(5354,)\n"
          ],
          "name": "stdout"
        }
      ]
    },
    {
      "cell_type": "code",
      "metadata": {
        "id": "b4hRLjf_tjCw",
        "colab_type": "code",
        "outputId": "04c6b9e6-af44-480a-b81f-9bd143206b1a",
        "colab": {
          "base_uri": "https://localhost:8080/",
          "height": 731
        }
      },
      "source": [
        "#Make a Keras Model and see what happens...\n",
        "\n",
        "model = tf.keras.Sequential()\n",
        "\n",
        "model.add(tf.keras.layers.Convolution1D(128, kernel_size=100, activation='relu', input_shape=(6080,1)))\n",
        "model.add(tf.keras.layers.Convolution1D(64, kernel_size=10, activation='relu'))\n",
        "# model.add(tf.keras.layers.GlobalMaxPooling1D())\n",
        "model.add(tf.keras.layers.Dropout(0.25))\n",
        "model.add(tf.keras.layers.Convolution1D(64, kernel_size=100, activation='tanh'))\n",
        "model.add(tf.keras.layers.Convolution1D(32, kernel_size=10, activation='tanh'))\n",
        "model.add(tf.keras.layers.GlobalMaxPooling1D())\n",
        "# model.add(tf.keras.layers.Flatten())\n",
        "model.add(tf.keras.layers.Dense(1, activation=\"sigmoid\"))\n",
        "\n",
        "sgd = tf.keras.optimizers.SGD(lr = 0.01, decay = 1e-4, nesterov=True)\n",
        "model.compile(loss='categorical_crossentropy', optimizer='adam', metrics=['accuracy'])\n",
        "model.summary()\n",
        "\n",
        "model2 = tf.keras.Sequential()\n",
        "\n",
        "model2.add(tf.keras.layers.Convolution1D(128, kernel_size=100, activation='tanh', input_shape=(6080,1)))\n",
        "model2.add(tf.keras.layers.Convolution1D(64, kernel_size=10, activation='tanh'))\n",
        "model2.add(tf.keras.layers.Dropout(0.25))\n",
        "#model2.add(tf.keras.layers.Flatten())\n",
        "model2.add(tf.keras.layers.GlobalMaxPooling1D())\n",
        "model2.add(tf.keras.layers.Dense(50, activation=\"relu\"))\n",
        "model2.add(tf.keras.layers.Dense(1, activation=\"sigmoid\"))\n",
        "\n",
        "model2.compile(loss='categorical_crossentropy', optimizer='adam', metrics=['accuracy'])\n",
        "model2.summary()"
      ],
      "execution_count": 0,
      "outputs": [
        {
          "output_type": "stream",
          "text": [
            "Model: \"sequential_2\"\n",
            "_________________________________________________________________\n",
            "Layer (type)                 Output Shape              Param #   \n",
            "=================================================================\n",
            "conv1d_6 (Conv1D)            (None, 5981, 128)         12928     \n",
            "_________________________________________________________________\n",
            "conv1d_7 (Conv1D)            (None, 5972, 64)          81984     \n",
            "_________________________________________________________________\n",
            "dropout_2 (Dropout)          (None, 5972, 64)          0         \n",
            "_________________________________________________________________\n",
            "conv1d_8 (Conv1D)            (None, 5873, 64)          409664    \n",
            "_________________________________________________________________\n",
            "conv1d_9 (Conv1D)            (None, 5864, 32)          20512     \n",
            "_________________________________________________________________\n",
            "global_max_pooling1d_2 (Glob (None, 32)                0         \n",
            "_________________________________________________________________\n",
            "dense_3 (Dense)              (None, 1)                 33        \n",
            "=================================================================\n",
            "Total params: 525,121\n",
            "Trainable params: 525,121\n",
            "Non-trainable params: 0\n",
            "_________________________________________________________________\n",
            "Model: \"sequential_3\"\n",
            "_________________________________________________________________\n",
            "Layer (type)                 Output Shape              Param #   \n",
            "=================================================================\n",
            "conv1d_10 (Conv1D)           (None, 5981, 128)         12928     \n",
            "_________________________________________________________________\n",
            "conv1d_11 (Conv1D)           (None, 5972, 64)          81984     \n",
            "_________________________________________________________________\n",
            "dropout_3 (Dropout)          (None, 5972, 64)          0         \n",
            "_________________________________________________________________\n",
            "global_max_pooling1d_3 (Glob (None, 64)                0         \n",
            "_________________________________________________________________\n",
            "dense_4 (Dense)              (None, 50)                3250      \n",
            "_________________________________________________________________\n",
            "dense_5 (Dense)              (None, 1)                 51        \n",
            "=================================================================\n",
            "Total params: 98,213\n",
            "Trainable params: 98,213\n",
            "Non-trainable params: 0\n",
            "_________________________________________________________________\n"
          ],
          "name": "stdout"
        }
      ]
    },
    {
      "cell_type": "code",
      "metadata": {
        "id": "H0uPI2jiuidJ",
        "colab_type": "code",
        "outputId": "8e03230a-c410-4120-8095-690a80e3aac1",
        "colab": {
          "base_uri": "https://localhost:8080/",
          "height": 595
        }
      },
      "source": [
        "print(\"Training\")\n",
        "model.fit(X_train, y_train, epochs=15, batch_size=16, verbose=1)\n",
        "print()\n",
        "print(\"Test\")\n",
        "test_loss, test_acc = model.evaluate(X_test,y_test)"
      ],
      "execution_count": 0,
      "outputs": [
        {
          "output_type": "stream",
          "text": [
            "Training\n",
            "Epoch 1/15\n",
            "680/680 [==============================] - 40s 59ms/step - loss: 4.6822e-08 - accuracy: 0.6052\n",
            "Epoch 2/15\n",
            "680/680 [==============================] - 41s 60ms/step - loss: 4.6840e-08 - accuracy: 0.6050\n",
            "Epoch 3/15\n",
            "680/680 [==============================] - 41s 61ms/step - loss: 4.6822e-08 - accuracy: 0.6054\n",
            "Epoch 4/15\n",
            "680/680 [==============================] - 41s 60ms/step - loss: 4.6840e-08 - accuracy: 0.6064\n",
            "Epoch 5/15\n",
            "680/680 [==============================] - 41s 61ms/step - loss: 4.6804e-08 - accuracy: 0.6063\n",
            "Epoch 6/15\n",
            "680/680 [==============================] - 41s 60ms/step - loss: 4.6840e-08 - accuracy: 0.6053\n",
            "Epoch 7/15\n",
            "680/680 [==============================] - 41s 60ms/step - loss: 4.6840e-08 - accuracy: 0.6056\n",
            "Epoch 8/15\n",
            "680/680 [==============================] - 41s 60ms/step - loss: 4.6804e-08 - accuracy: 0.6056\n",
            "Epoch 9/15\n",
            "680/680 [==============================] - 41s 60ms/step - loss: 4.6804e-08 - accuracy: 0.6048\n",
            "Epoch 10/15\n",
            "680/680 [==============================] - 41s 60ms/step - loss: 4.6858e-08 - accuracy: 0.6063\n",
            "Epoch 11/15\n",
            "680/680 [==============================] - 41s 60ms/step - loss: 4.6822e-08 - accuracy: 0.6060\n",
            "Epoch 12/15\n",
            "680/680 [==============================] - 41s 60ms/step - loss: 4.6840e-08 - accuracy: 0.6064\n",
            "Epoch 13/15\n",
            "680/680 [==============================] - 41s 60ms/step - loss: 4.6840e-08 - accuracy: 0.6062\n",
            "Epoch 14/15\n",
            "680/680 [==============================] - 41s 60ms/step - loss: 4.6822e-08 - accuracy: 0.6059\n",
            "Epoch 15/15\n",
            "680/680 [==============================] - 41s 60ms/step - loss: 4.6822e-08 - accuracy: 0.6059\n",
            "\n",
            "Test\n",
            "168/168 [==============================] - 4s 22ms/step - loss: 4.7329e-08 - accuracy: 0.5999\n"
          ],
          "name": "stdout"
        }
      ]
    },
    {
      "cell_type": "code",
      "metadata": {
        "id": "b8G6z-9Eofvh",
        "colab_type": "code",
        "outputId": "810669ec-a7d7-42c0-adef-c354c50f9554",
        "colab": {
          "base_uri": "https://localhost:8080/",
          "height": 595
        }
      },
      "source": [
        "print(\"Training 2\")\n",
        "model2.fit(X_train, y_train, epochs=15, batch_size=16, verbose=1)\n",
        "print()\n",
        "print(\"Test 2\")\n",
        "test_loss2, test_acc2 = model.evaluate(X_test,y_test)"
      ],
      "execution_count": 0,
      "outputs": [
        {
          "output_type": "stream",
          "text": [
            "Training 2\n",
            "Epoch 1/15\n",
            "680/680 [==============================] - 16s 24ms/step - loss: 4.6840e-08 - accuracy: 0.3929\n",
            "Epoch 2/15\n",
            "680/680 [==============================] - 16s 24ms/step - loss: 4.6822e-08 - accuracy: 0.3930\n",
            "Epoch 3/15\n",
            "680/680 [==============================] - 16s 24ms/step - loss: 4.6840e-08 - accuracy: 0.3929\n",
            "Epoch 4/15\n",
            "680/680 [==============================] - 16s 23ms/step - loss: 4.6804e-08 - accuracy: 0.3929\n",
            "Epoch 5/15\n",
            "680/680 [==============================] - 16s 23ms/step - loss: 4.6840e-08 - accuracy: 0.3929\n",
            "Epoch 6/15\n",
            "680/680 [==============================] - 16s 24ms/step - loss: 4.6840e-08 - accuracy: 0.3930\n",
            "Epoch 7/15\n",
            "680/680 [==============================] - 16s 24ms/step - loss: 4.6822e-08 - accuracy: 0.3929\n",
            "Epoch 8/15\n",
            "680/680 [==============================] - 16s 24ms/step - loss: 4.6804e-08 - accuracy: 0.3929\n",
            "Epoch 9/15\n",
            "680/680 [==============================] - 16s 24ms/step - loss: 4.6804e-08 - accuracy: 0.3929\n",
            "Epoch 10/15\n",
            "680/680 [==============================] - 16s 24ms/step - loss: 4.6840e-08 - accuracy: 0.3929\n",
            "Epoch 11/15\n",
            "680/680 [==============================] - 16s 24ms/step - loss: 4.6822e-08 - accuracy: 0.3929\n",
            "Epoch 12/15\n",
            "680/680 [==============================] - 16s 24ms/step - loss: 4.6840e-08 - accuracy: 0.3929\n",
            "Epoch 13/15\n",
            "680/680 [==============================] - 16s 24ms/step - loss: 4.6804e-08 - accuracy: 0.3929\n",
            "Epoch 14/15\n",
            "680/680 [==============================] - 16s 24ms/step - loss: 4.6804e-08 - accuracy: 0.3929\n",
            "Epoch 15/15\n",
            "680/680 [==============================] - 16s 24ms/step - loss: 4.6804e-08 - accuracy: 0.3929\n",
            "\n",
            "Test 2\n",
            "168/168 [==============================] - 4s 22ms/step - loss: 4.7329e-08 - accuracy: 0.5999\n"
          ],
          "name": "stdout"
        }
      ]
    },
    {
      "cell_type": "code",
      "metadata": {
        "id": "FeL_l0ljYo54",
        "colab_type": "code",
        "outputId": "babe3931-a2e7-49ca-8f28-2558cdd0665b",
        "colab": {
          "base_uri": "https://localhost:8080/",
          "height": 363
        }
      },
      "source": [
        "y_pred = model.predict(X_test).astype(\"int32\").ravel()\n",
        "y_pred2 = model2.predict(X_test).astype(\"int32\").ravel()\n",
        "\n",
        "print(y_pred.shape)\n",
        "print(sum(y_pred))\n",
        "\n",
        "print(y_pred2.shape)\n",
        "print(sum(y_pred2))\n",
        "\n",
        "fpr, tpr, threshold = roc_curve(y_test, y_pred)\n",
        "fpr2, tpr2, threshold2 = roc_curve(y_test, y_pred2)\n",
        "\n",
        "auc1 = auc(fpr, tpr)\n",
        "auc2 = auc(fpr2, tpr2)\n",
        "\n",
        "plt.plot(fpr, tpr, label = 'Model 1 area = {:.3f}'.format(auc1))\n",
        "plt.plot(fpr2, tpr2, label = 'Model 2 area = {:.3f}'.format(auc2))\n",
        "plt.xlabel('False positive rate')\n",
        "plt.ylabel('True positive rate')\n",
        "plt.title('ROC Curve')\n",
        "plt.legend(loc='best')\n",
        "plt.show()"
      ],
      "execution_count": 0,
      "outputs": [
        {
          "output_type": "stream",
          "text": [
            "(5354,)\n",
            "0\n",
            "(5354,)\n",
            "0\n"
          ],
          "name": "stdout"
        },
        {
          "output_type": "display_data",
          "data": {
            "image/png": "[encoded data removed]",
            "text/plain": [
              "<Figure size 432x288 with 1 Axes>"
            ]
          },
          "metadata": {
            "tags": [],
            "needs_background": "light"
          }
        }
      ]
    }
  ]
}