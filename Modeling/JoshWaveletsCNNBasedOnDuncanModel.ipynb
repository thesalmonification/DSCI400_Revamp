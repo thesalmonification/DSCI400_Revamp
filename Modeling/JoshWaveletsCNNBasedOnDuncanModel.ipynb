{
  "nbformat": 4,
  "nbformat_minor": 0,
  "metadata": {
    "colab": {
      "name": "JoshWaveletsCNNBasedOnDuncanModel.ipynb",
      "provenance": [],
      "include_colab_link": true
    },
    "kernelspec": {
      "name": "python3",
      "display_name": "Python 3"
    },
    "accelerator": "GPU"
  },
  "cells": [
    {
      "cell_type": "markdown",
      "metadata": {
        "id": "view-in-github",
        "colab_type": "text"
      },
      "source": [
        "<a href=\"https://colab.research.google.com/github/thesalmonification/DSCI400_Revamp/blob/master/JoshWaveletsCNNBasedOnDuncanModel.ipynb\" target=\"_parent\"><img src=\"https://colab.research.google.com/assets/colab-badge.svg\" alt=\"Open In Colab\"/></a>"
      ]
    },
    {
      "cell_type": "code",
      "metadata": {
        "id": "73vTtg1SmPW3",
        "colab_type": "code",
        "colab": {}
      },
      "source": [
        "import numpy as np\n",
        "import matplotlib.pyplot as plt\n",
        "import pandas as pd\n",
        "import pywt\n",
        "import tensorflow as tf"
      ],
      "execution_count": 0,
      "outputs": []
    },
    {
      "cell_type": "code",
      "metadata": {
        "id": "BSPfpCZmmQ9w",
        "colab_type": "code",
        "outputId": "0ff5ba90-f323-4ed9-90fd-c49455984a34",
        "colab": {
          "base_uri": "https://localhost:8080/",
          "height": 122
        }
      },
      "source": [
        "#Written in Google Colab: add drive\n",
        "from google.colab import drive\n",
        "drive.mount('/content/drive')"
      ],
      "execution_count": 0,
      "outputs": [
        {
          "output_type": "stream",
          "text": [
            "Go to this URL in a browser: https://accounts.google.com/o/oauth2/auth?client_id=947318989803-6bn6qk8qdgf4n4g3pfee6491hc0brc4i.apps.googleusercontent.com&redirect_uri=urn%3aietf%3awg%3aoauth%3a2.0%3aoob&response_type=code&scope=email%20https%3a%2f%2fwww.googleapis.com%2fauth%2fdocs.test%20https%3a%2f%2fwww.googleapis.com%2fauth%2fdrive%20https%3a%2f%2fwww.googleapis.com%2fauth%2fdrive.photos.readonly%20https%3a%2f%2fwww.googleapis.com%2fauth%2fpeopleapi.readonly\n",
            "\n",
            "Enter your authorization code:\n",
            "··········\n",
            "Mounted at /content/drive\n"
          ],
          "name": "stdout"
        }
      ]
    },
    {
      "cell_type": "code",
      "metadata": {
        "id": "-NtvYwweSuru",
        "colab_type": "code",
        "outputId": "4b731b8c-f53e-4aa7-d712-9515e939ba3e",
        "colab": {
          "base_uri": "https://localhost:8080/",
          "height": 51
        }
      },
      "source": [
        "#Load the pos/emo sessions\n",
        "PosEmoSessions = list(pd.read_csv('/content/drive/Shared drives/DSCI400_Revamp/PosEmoSessions.csv',header=None)[0])[:200]\n",
        "NegEmoSessions = list(pd.read_csv('/content/drive/Shared drives/DSCI400_Revamp/NegEmoSessions.csv',header=None)[0])\n",
        "\n",
        "print(len(PosEmoSessions))\n",
        "print(len(NegEmoSessions))\n",
        "\n",
        "#Concatenate all pos/neg emo sessions\n",
        "all_sessions = PosEmoSessions + NegEmoSessions"
      ],
      "execution_count": 0,
      "outputs": [
        {
          "output_type": "stream",
          "text": [
            "200\n",
            "200\n"
          ],
          "name": "stdout"
        }
      ]
    },
    {
      "cell_type": "code",
      "metadata": {
        "id": "jOE-8v1kTIUI",
        "colab_type": "code",
        "colab": {}
      },
      "source": [
        "def Wavelets(waveform_array):\n",
        "  coeffs = pywt.wavedec(waveform_array, 'db2', level=6) #db2 was nice\n",
        "  cA6, cD6, cD5,cD4,cD3,cD2,cD1 = coeffs\n",
        "  cD5 = np.std(cD5)\n",
        "  cD4 = np.std(cD4)\n",
        "  cD3 = np.std(cD3)\n",
        "  cD2 = np.std(cD2)\n",
        "  cD1 = np.std(cD1)\n",
        " \n",
        "  return [cD5,cD4,cD3,cD2,cD1]"
      ],
      "execution_count": 0,
      "outputs": []
    },
    {
      "cell_type": "code",
      "metadata": {
        "id": "9EG0d2EiTP3M",
        "colab_type": "code",
        "outputId": "c58cfd01-10be-47eb-c2c0-33629e2c199b",
        "colab": {
          "base_uri": "https://localhost:8080/",
          "height": 51
        }
      },
      "source": [
        "##############################################################################\n",
        "chs = ['Fp1','Fp2','AF3','AF4','F7','F3','Fz','F4','F8','FC5','FC1','FC2','FC6','T7','C3','Cz','C4','T8','CP5','CP1','CP2','CP6','P7','P3','Pz','P4','P8','PO3','PO4','O1','Oz','O2']\n",
        "\n",
        "to_binary_dict = {'0':0,'4':0,'6':0,'11':0,'1':1,'2':1,'3':1,'5':1,'12':1}\n",
        "\n",
        "\n",
        "\n",
        "\n",
        "data_pd = pd.read_hdf('/content/drive/Shared drives/DSCI400_Revamp/Waveform_Vocoded_Equalized_Downsampled_Data.h5',key=all_sessions[0])\n",
        "session_wavelets = []\n",
        "\n",
        "for ch in chs:\n",
        "  waveform_array = data_pd[ch].to_numpy()\n",
        "  waveform_array = np.reshape(waveform_array,(1,6080))\n",
        "  wavelets = Wavelets(waveform_array)\n",
        "\n",
        "  session_wavelets = session_wavelets + wavelets\n",
        "  ########################################################\n",
        "\n",
        "session_wavelets = np.array(session_wavelets)\n",
        "factors = np.reshape(session_wavelets,(1,-1))\n",
        "\n",
        "\n",
        "\n",
        "label_data = pd.read_hdf('/content/drive/Shared drives/DSCI400_Revamp/Label_Data.h5',key=all_sessions[0]+'_labels').T\n",
        "label_list = [to_binary_dict[label_data['feltEmo'].to_numpy()[0]]]\n",
        "##############################################################################\n",
        "\n",
        "\n",
        "for session in all_sessions[1:]:\n",
        "  #print(session)\n",
        "  data_pd = pd.read_hdf('/content/drive/Shared drives/DSCI400_Revamp/Waveform_Vocoded_Equalized_Downsampled_Data.h5',key=session)\n",
        "  label_data = pd.read_hdf('/content/drive/Shared drives/DSCI400_Revamp/Label_Data.h5',key=session+'_labels').T\n",
        "  feltEmo_val = label_data['feltEmo'].to_numpy()[0]\n",
        "  label_list = label_list + [to_binary_dict[feltEmo_val]]\n",
        "  session_wavelets = []\n",
        "\n",
        "  ########################################################\n",
        "  for ch in chs:\n",
        "    waveform_array = data_pd[ch].to_numpy()\n",
        "    waveform_array = np.reshape(waveform_array,(1,6080))\n",
        "    wavelets = Wavelets(waveform_array)\n",
        "\n",
        "    session_wavelets = session_wavelets + wavelets\n",
        "  ########################################################\n",
        "\n",
        "  session_wavelets = np.array(session_wavelets)\n",
        "  session_wavelets = np.reshape(session_wavelets,(1,-1))\n",
        "    \n",
        "  factors = np.concatenate((factors,session_wavelets),axis = 0)\n",
        "\n",
        "print(factors.shape)\n",
        "print(len(label_list))"
      ],
      "execution_count": 0,
      "outputs": [
        {
          "output_type": "stream",
          "text": [
            "(400, 160)\n",
            "400\n"
          ],
          "name": "stdout"
        }
      ]
    },
    {
      "cell_type": "code",
      "metadata": {
        "id": "VfD5eFMaTdKE",
        "colab_type": "code",
        "colab": {}
      },
      "source": [
        "#Make a Keras Model and see what happens...\n",
        "def KerasModel(lr):\n",
        "  \"\"\"\n",
        "  Paste the Keras Sequential model code here...\n",
        "  Ensure that you have a learning rate varible \"lr\" in the optimizer declaration\n",
        "  \"\"\"\n",
        "\n",
        "  model = tf.keras.Sequential()\n",
        "\n",
        "  model.add(tf.keras.layers.Dense(640,input_shape=(160,),activation='relu'))\n",
        "\n",
        "  model.add(tf.keras.layers.Dense(200))\n",
        "\n",
        "  model.add(tf.keras.layers.Dropout(0.2))\n",
        "\n",
        "  model.add(tf.keras.layers.Dense(40))\n",
        "\n",
        "  model.add(tf.keras.layers.Dense(1, activation='sigmoid'))\n",
        "\n",
        "  #YOUR OPTIMIZER MUST CONTAIN A LEARNING RATE!\n",
        "  sgd = tf.keras.optimizers.Adam(lr = lr, decay = 1e-5)\n",
        "  \n",
        "  \n",
        "  \n",
        "  model.compile(loss='binary_crossentropy',optimizer=sgd,metrics=['accuracy'])\n",
        "  #model.summary()\n",
        "\n",
        "  return model"
      ],
      "execution_count": 0,
      "outputs": []
    },
    {
      "cell_type": "code",
      "metadata": {
        "id": "yB0B4kXATyZs",
        "colab_type": "code",
        "outputId": "7b8f8a24-5912-42a7-c53e-2f78ad249a82",
        "colab": {
          "base_uri": "https://localhost:8080/",
          "height": 71
        }
      },
      "source": [
        "from sklearn.model_selection import train_test_split\n",
        "\n",
        "X_train, X_test, y_train, y_test = train_test_split(factors, label_list, test_size=0.33)\n",
        "\n",
        "print(X_train.shape)\n",
        "print(y_train)"
      ],
      "execution_count": 0,
      "outputs": [
        {
          "output_type": "stream",
          "text": [
            "(268, 160)\n",
            "[1, 1, 0, 0, 1, 1, 0, 1, 0, 0, 1, 1, 1, 1, 0, 0, 0, 1, 0, 0, 0, 0, 0, 0, 0, 1, 1, 1, 1, 0, 1, 0, 0, 0, 1, 1, 0, 0, 1, 1, 0, 1, 1, 1, 1, 0, 1, 0, 1, 0, 1, 1, 0, 0, 0, 1, 1, 1, 1, 1, 0, 1, 1, 0, 1, 0, 1, 0, 1, 0, 1, 1, 0, 0, 1, 1, 1, 1, 0, 0, 1, 0, 0, 0, 0, 1, 1, 0, 0, 1, 0, 1, 0, 0, 1, 1, 0, 1, 1, 0, 1, 0, 1, 1, 1, 1, 1, 1, 0, 0, 0, 1, 1, 0, 0, 1, 0, 1, 1, 0, 0, 1, 0, 0, 1, 0, 1, 0, 1, 0, 0, 1, 1, 0, 0, 0, 1, 0, 1, 0, 0, 0, 0, 0, 1, 1, 1, 0, 0, 1, 0, 1, 0, 1, 0, 0, 1, 1, 0, 0, 1, 1, 0, 1, 0, 0, 0, 0, 1, 0, 0, 1, 0, 1, 0, 1, 0, 1, 0, 1, 0, 0, 1, 0, 0, 0, 1, 0, 0, 1, 0, 1, 1, 0, 0, 0, 1, 1, 0, 1, 0, 1, 0, 1, 1, 1, 0, 1, 0, 0, 0, 0, 0, 1, 0, 0, 1, 1, 1, 0, 0, 0, 0, 0, 1, 0, 1, 0, 0, 1, 0, 1, 1, 0, 1, 0, 1, 0, 1, 1, 0, 0, 1, 1, 1, 0, 1, 1, 0, 0, 1, 1, 1, 0, 1, 0, 0, 1, 1, 1, 1, 1, 1, 1, 1, 1, 1, 1]\n"
          ],
          "name": "stdout"
        }
      ]
    },
    {
      "cell_type": "code",
      "metadata": {
        "id": "hIjifQPhT4iI",
        "colab_type": "code",
        "outputId": "9e9fdc4a-3925-4bfe-a7e4-1c667ebaff84",
        "colab": {
          "base_uri": "https://localhost:8080/",
          "height": 380
        }
      },
      "source": [
        "EPOCHS=100\n",
        "BATCH_SIZE=32\n",
        "\n",
        "\n",
        "learning_rates = np.power(10*np.ones((5,)),np.array(range(-6,-1))) #10^-6 thru 10^-1\n",
        "\n",
        "\n",
        "#learning_rates = np.array([.001,.0011,.0012,.0016,.0018])\n",
        "\n",
        "#learning_rates = np.linspace(.0001,0.01,10)\n",
        "\n",
        "\n",
        "\n",
        "#Iterate over the learning rates\n",
        "for lr in learning_rates:\n",
        "  #Generate model, fit, and plot accuracy over epochs\n",
        "  model = KerasModel(lr)\n",
        "  print('Model for learning rate ', lr)\n",
        "  #model.summary() #To check number of parameters\n",
        "  history = model.fit(X_train,np.array(y_train),epochs=EPOCHS,batch_size=BATCH_SIZE, verbose=0)\n",
        "  plt.plot(history.history['accuracy'])\n",
        "  \n",
        "  #Destroy the old model to prevent overloading GPU\n",
        "  tf.keras.backend.clear_session()\n",
        "\n",
        "#Plot the graph\n",
        "plt.legend(learning_rates)\n",
        "plt.title('Accuracy vs. Epoch')\n",
        "plt.xlabel('Epoch')\n",
        "plt.ylabel('Accuracy')\n",
        "plt.show()"
      ],
      "execution_count": 0,
      "outputs": [
        {
          "output_type": "stream",
          "text": [
            "Model for learning rate  1e-06\n",
            "Model for learning rate  1e-05\n",
            "Model for learning rate  0.0001\n",
            "Model for learning rate  0.001\n",
            "Model for learning rate  0.01\n"
          ],
          "name": "stdout"
        },
        {
          "output_type": "display_data",
          "data": {
            "image/png": "[encoded data removed]",
            "text/plain": [
              "<Figure size 432x288 with 1 Axes>"
            ]
          },
          "metadata": {
            "tags": [],
            "needs_background": "light"
          }
        }
      ]
    },
    {
      "cell_type": "code",
      "metadata": {
        "id": "AOkb_2ZMT5Fw",
        "colab_type": "code",
        "outputId": "271e9afc-2930-43fe-d0ec-95d7403559ff",
        "colab": {
          "base_uri": "https://localhost:8080/",
          "height": 768
        }
      },
      "source": [
        "#Perform n-fold cross validation\n",
        "from sklearn.model_selection import KFold\n",
        "\n",
        "\n",
        "label_array = np.array(label_list)\n",
        "\n",
        "n_split=10\n",
        " \n",
        "for train_index,test_index in KFold(n_split,shuffle=True).split(factors):\n",
        "  x_train,x_test=factors[train_index],factors[test_index]\n",
        "  y_train,y_test=label_array[train_index],label_array[test_index]\n",
        "\n",
        "\n",
        "  model = KerasModel(0.001)\n",
        "\n",
        "\n",
        "  history = model.fit(x_train,y_train,epochs=EPOCHS,batch_size=BATCH_SIZE, verbose=0)\n",
        "  test_loss, test_acc = model.evaluate(x_test,y_test)\n",
        "\n",
        "  #plt.figure()\n",
        "  #plt.stem(model.predict_classes(x_test))\n",
        "  \n",
        "  #Destroy the old model to prevent overloading GPU\n",
        "  tf.keras.backend.clear_session()\n",
        "  \n",
        "  \n",
        "  print(\"The Number of 1's is:\" + str(np.count_nonzero(model.predict_classes(X_test))))\n",
        "  print(\"The Number of 0's is:\" + str(np.count_nonzero(model.predict_classes(X_test) ==0 )))\n",
        "  print('-------------------------------------------')"
      ],
      "execution_count": 0,
      "outputs": [
        {
          "output_type": "stream",
          "text": [
            "2/2 [==============================] - 0s 4ms/step - loss: 0.6608 - accuracy: 0.5500\n",
            "WARNING:tensorflow:From <ipython-input-9-dd8f3461dafb>:26: Sequential.predict_classes (from tensorflow.python.keras.engine.sequential) is deprecated and will be removed after 2021-01-01.\n",
            "Instructions for updating:\n",
            "Please use instead:* `np.argmax(model.predict(x), axis=-1)`,   if your model does multi-class classification   (e.g. if it uses a `softmax` last-layer activation).* `(model.predict(x) > 0.5).astype(\"int32\")`,   if your model does binary classification   (e.g. if it uses a `sigmoid` last-layer activation).\n",
            "The Number of 1's is:75\n",
            "The Number of 0's is:57\n",
            "-------------------------------------------\n",
            "2/2 [==============================] - 0s 3ms/step - loss: 0.5983 - accuracy: 0.6250\n",
            "The Number of 1's is:75\n",
            "The Number of 0's is:57\n",
            "-------------------------------------------\n",
            "2/2 [==============================] - 0s 3ms/step - loss: 0.6085 - accuracy: 0.6250\n",
            "The Number of 1's is:80\n",
            "The Number of 0's is:52\n",
            "-------------------------------------------\n",
            "2/2 [==============================] - 0s 3ms/step - loss: 0.6471 - accuracy: 0.7250\n",
            "The Number of 1's is:77\n",
            "The Number of 0's is:55\n",
            "-------------------------------------------\n",
            "2/2 [==============================] - 0s 3ms/step - loss: 0.7119 - accuracy: 0.5750\n",
            "The Number of 1's is:78\n",
            "The Number of 0's is:54\n",
            "-------------------------------------------\n",
            "2/2 [==============================] - 0s 6ms/step - loss: 0.5581 - accuracy: 0.7750\n",
            "The Number of 1's is:76\n",
            "The Number of 0's is:56\n",
            "-------------------------------------------\n",
            "2/2 [==============================] - 0s 3ms/step - loss: 0.7019 - accuracy: 0.5250\n",
            "The Number of 1's is:91\n",
            "The Number of 0's is:41\n",
            "-------------------------------------------\n",
            "2/2 [==============================] - 0s 4ms/step - loss: 0.5855 - accuracy: 0.7250\n",
            "The Number of 1's is:77\n",
            "The Number of 0's is:55\n",
            "-------------------------------------------\n",
            "2/2 [==============================] - 0s 4ms/step - loss: 0.7037 - accuracy: 0.6500\n",
            "The Number of 1's is:80\n",
            "The Number of 0's is:52\n",
            "-------------------------------------------\n",
            "2/2 [==============================] - 0s 4ms/step - loss: 0.5213 - accuracy: 0.7250\n",
            "The Number of 1's is:92\n",
            "The Number of 0's is:40\n",
            "-------------------------------------------\n"
          ],
          "name": "stdout"
        }
      ]
    },
    {
      "cell_type": "code",
      "metadata": {
        "id": "b8tinBQIUz-k",
        "colab_type": "code",
        "colab": {}
      },
      "source": [
        ""
      ],
      "execution_count": 0,
      "outputs": []
    }
  ]
}