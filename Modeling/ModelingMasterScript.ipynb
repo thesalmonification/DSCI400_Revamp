{
  "nbformat": 4,
  "nbformat_minor": 0,
  "metadata": {
    "colab": {
      "name": "ModelingMasterScript.ipynb",
      "provenance": [],
      "collapsed_sections": [],
      "include_colab_link": true
    },
    "kernelspec": {
      "name": "python3",
      "display_name": "Python 3"
    },
    "accelerator": "GPU"
  },
  "cells": [
    {
      "cell_type": "markdown",
      "metadata": {
        "id": "view-in-github",
        "colab_type": "text"
      },
      "source": [
        "<a href=\"https://colab.research.google.com/github/thesalmonification/DSCI400_Revamp/blob/master/ModelingMasterScript.ipynb\" target=\"_parent\"><img src=\"https://colab.research.google.com/assets/colab-badge.svg\" alt=\"Open In Colab\"/></a>"
      ]
    },
    {
      "cell_type": "markdown",
      "metadata": {
        "id": "Cwu7nrMeUVMe",
        "colab_type": "text"
      },
      "source": [
        "Imports"
      ]
    },
    {
      "cell_type": "code",
      "metadata": {
        "id": "KjDrUBLNS0x0",
        "colab_type": "code",
        "colab": {}
      },
      "source": [
        "#Add Shared Google Drive Access\n",
        "from google.colab import drive\n",
        "drive.mount('/content/drive')"
      ],
      "execution_count": 0,
      "outputs": []
    },
    {
      "cell_type": "markdown",
      "metadata": {
        "id": "v4MIWLUqYDpM",
        "colab_type": "text"
      },
      "source": [
        "Modeling: MLP_Model.ipynb"
      ]
    },
    {
      "cell_type": "code",
      "metadata": {
        "id": "1nH2tPTbUXmO",
        "colab_type": "code",
        "colab": {}
      },
      "source": [
        "#Running the script \"MLP_Model.ipynb\" shows the final results of our Multi-layer\n",
        "#Perceptron model. This model uses FFTs as inputs.\n",
        "%run '/content/drive/Shared drives/DSCI400_Revamp/Code/Modeling/MLP_Model.ipynb'"
      ],
      "execution_count": 0,
      "outputs": []
    },
    {
      "cell_type": "markdown",
      "metadata": {
        "id": "wfzsQkKhYGwF",
        "colab_type": "text"
      },
      "source": [
        "Modeling: CNN_Model.ipynb"
      ]
    },
    {
      "cell_type": "code",
      "metadata": {
        "id": "M9cqAzjYUYjd",
        "colab_type": "code",
        "colab": {}
      },
      "source": [
        "#Running this script demonstrates our final results for our CNN model. This model\n",
        "#uses time-series as inputs.\n",
        "%run '/content/drive/Shared drives/DSCI400_Revamp/Code/Modeling/CNN_Model.ipynb'"
      ],
      "execution_count": 0,
      "outputs": []
    },
    {
      "cell_type": "code",
      "metadata": {
        "id": "ekojaIN6cuFb",
        "colab_type": "code",
        "colab": {}
      },
      "source": [
        ""
      ],
      "execution_count": 0,
      "outputs": []
    }
  ]
}